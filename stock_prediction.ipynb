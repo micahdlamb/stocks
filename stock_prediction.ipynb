{
 "cells": [
  {
   "cell_type": "markdown",
   "metadata": {},
   "source": [
    "# necessary imports"
   ]
  },
  {
   "cell_type": "code",
   "execution_count": 1,
   "metadata": {},
   "outputs": [],
   "source": [
    "import torch\n",
    "import torch.nn as nn\n",
    "\n",
    "import numpy as np\n",
    "import pandas as pd\n",
    "from matplotlib import colors\n",
    "import matplotlib.pyplot as plt\n",
    "%matplotlib inline\n",
    "\n",
    "import typing\n",
    "from datetime import datetime, timedelta"
   ]
  },
  {
   "cell_type": "markdown",
   "metadata": {},
   "source": [
    "# read the raw training data"
   ]
  },
  {
   "cell_type": "code",
   "execution_count": 53,
   "metadata": {},
   "outputs": [
    {
     "data": {
      "text/html": [
       "<div>\n",
       "<style scoped>\n",
       "    .dataframe tbody tr th:only-of-type {\n",
       "        vertical-align: middle;\n",
       "    }\n",
       "\n",
       "    .dataframe tbody tr th {\n",
       "        vertical-align: top;\n",
       "    }\n",
       "\n",
       "    .dataframe thead th {\n",
       "        text-align: right;\n",
       "    }\n",
       "</style>\n",
       "<table border=\"1\" class=\"dataframe\">\n",
       "  <thead>\n",
       "    <tr style=\"text-align: right;\">\n",
       "      <th></th>\n",
       "      <th>ticker</th>\n",
       "      <th>date</th>\n",
       "      <th>price</th>\n",
       "      <th>price_1m</th>\n",
       "      <th>price_6m</th>\n",
       "      <th>price_1y</th>\n",
       "      <th>market</th>\n",
       "      <th>sector</th>\n",
       "      <th>industry</th>\n",
       "      <th>net_income</th>\n",
       "      <th>revenue</th>\n",
       "      <th>research_and_development_expenses</th>\n",
       "      <th>eps</th>\n",
       "      <th>book_value_per_share</th>\n",
       "      <th>current_ratio</th>\n",
       "      <th>long_term_debt_2_capital</th>\n",
       "      <th>debt2equity_ratio</th>\n",
       "      <th>total_non_operating_income2expense</th>\n",
       "    </tr>\n",
       "  </thead>\n",
       "  <tbody>\n",
       "    <tr>\n",
       "      <th>0</th>\n",
       "      <td>AAPL</td>\n",
       "      <td>2020-06-30</td>\n",
       "      <td>360.079987</td>\n",
       "      <td>376.750000</td>\n",
       "      <td>NaN</td>\n",
       "      <td>NaN</td>\n",
       "      <td>us_market</td>\n",
       "      <td>Technology</td>\n",
       "      <td>Consumer Electronics</td>\n",
       "      <td>11253.0</td>\n",
       "      <td>59685.0</td>\n",
       "      <td>4758.0</td>\n",
       "      <td>2.58</td>\n",
       "      <td>16.8728</td>\n",
       "      <td>1.4695</td>\n",
       "      <td>0.5654</td>\n",
       "      <td>1.5595</td>\n",
       "      <td>46.0</td>\n",
       "    </tr>\n",
       "    <tr>\n",
       "      <th>1</th>\n",
       "      <td>AAPL</td>\n",
       "      <td>2020-03-31</td>\n",
       "      <td>255.600006</td>\n",
       "      <td>289.959991</td>\n",
       "      <td>NaN</td>\n",
       "      <td>NaN</td>\n",
       "      <td>us_market</td>\n",
       "      <td>Technology</td>\n",
       "      <td>Consumer Electronics</td>\n",
       "      <td>11249.0</td>\n",
       "      <td>58313.0</td>\n",
       "      <td>4565.0</td>\n",
       "      <td>2.55</td>\n",
       "      <td>18.1372</td>\n",
       "      <td>1.4960</td>\n",
       "      <td>0.5318</td>\n",
       "      <td>1.3963</td>\n",
       "      <td>282.0</td>\n",
       "    </tr>\n",
       "    <tr>\n",
       "      <th>2</th>\n",
       "      <td>AAPL</td>\n",
       "      <td>2019-12-31</td>\n",
       "      <td>289.929993</td>\n",
       "      <td>320.540009</td>\n",
       "      <td>353.250000</td>\n",
       "      <td>NaN</td>\n",
       "      <td>us_market</td>\n",
       "      <td>Technology</td>\n",
       "      <td>Consumer Electronics</td>\n",
       "      <td>22236.0</td>\n",
       "      <td>91819.0</td>\n",
       "      <td>4451.0</td>\n",
       "      <td>4.99</td>\n",
       "      <td>20.4178</td>\n",
       "      <td>1.5978</td>\n",
       "      <td>0.5097</td>\n",
       "      <td>1.2095</td>\n",
       "      <td>349.0</td>\n",
       "    </tr>\n",
       "    <tr>\n",
       "      <th>3</th>\n",
       "      <td>AAPL</td>\n",
       "      <td>2019-09-30</td>\n",
       "      <td>220.899994</td>\n",
       "      <td>244.759995</td>\n",
       "      <td>250.740005</td>\n",
       "      <td>NaN</td>\n",
       "      <td>us_market</td>\n",
       "      <td>Technology</td>\n",
       "      <td>Consumer Electronics</td>\n",
       "      <td>13686.0</td>\n",
       "      <td>64040.0</td>\n",
       "      <td>4110.0</td>\n",
       "      <td>3.07</td>\n",
       "      <td>20.3653</td>\n",
       "      <td>1.5401</td>\n",
       "      <td>0.5036</td>\n",
       "      <td>1.1940</td>\n",
       "      <td>502.0</td>\n",
       "    </tr>\n",
       "    <tr>\n",
       "      <th>4</th>\n",
       "      <td>AAPL</td>\n",
       "      <td>2019-06-30</td>\n",
       "      <td>203.169998</td>\n",
       "      <td>208.759995</td>\n",
       "      <td>291.119995</td>\n",
       "      <td>353.25</td>\n",
       "      <td>us_market</td>\n",
       "      <td>Technology</td>\n",
       "      <td>Consumer Electronics</td>\n",
       "      <td>10044.0</td>\n",
       "      <td>53809.0</td>\n",
       "      <td>4257.0</td>\n",
       "      <td>2.18</td>\n",
       "      <td>21.2862</td>\n",
       "      <td>1.5046</td>\n",
       "      <td>0.4682</td>\n",
       "      <td>1.1240</td>\n",
       "      <td>367.0</td>\n",
       "    </tr>\n",
       "  </tbody>\n",
       "</table>\n",
       "</div>"
      ],
      "text/plain": [
       "  ticker       date       price    price_1m    price_6m  price_1y     market  \\\n",
       "0   AAPL 2020-06-30  360.079987  376.750000         NaN       NaN  us_market   \n",
       "1   AAPL 2020-03-31  255.600006  289.959991         NaN       NaN  us_market   \n",
       "2   AAPL 2019-12-31  289.929993  320.540009  353.250000       NaN  us_market   \n",
       "3   AAPL 2019-09-30  220.899994  244.759995  250.740005       NaN  us_market   \n",
       "4   AAPL 2019-06-30  203.169998  208.759995  291.119995    353.25  us_market   \n",
       "\n",
       "       sector              industry  net_income  revenue  \\\n",
       "0  Technology  Consumer Electronics     11253.0  59685.0   \n",
       "1  Technology  Consumer Electronics     11249.0  58313.0   \n",
       "2  Technology  Consumer Electronics     22236.0  91819.0   \n",
       "3  Technology  Consumer Electronics     13686.0  64040.0   \n",
       "4  Technology  Consumer Electronics     10044.0  53809.0   \n",
       "\n",
       "   research_and_development_expenses   eps  book_value_per_share  \\\n",
       "0                             4758.0  2.58               16.8728   \n",
       "1                             4565.0  2.55               18.1372   \n",
       "2                             4451.0  4.99               20.4178   \n",
       "3                             4110.0  3.07               20.3653   \n",
       "4                             4257.0  2.18               21.2862   \n",
       "\n",
       "   current_ratio  long_term_debt_2_capital  debt2equity_ratio  \\\n",
       "0         1.4695                    0.5654             1.5595   \n",
       "1         1.4960                    0.5318             1.3963   \n",
       "2         1.5978                    0.5097             1.2095   \n",
       "3         1.5401                    0.5036             1.1940   \n",
       "4         1.5046                    0.4682             1.1240   \n",
       "\n",
       "   total_non_operating_income2expense  \n",
       "0                                46.0  \n",
       "1                               282.0  \n",
       "2                               349.0  \n",
       "3                               502.0  \n",
       "4                               367.0  "
      ]
     },
     "execution_count": 53,
     "metadata": {},
     "output_type": "execute_result"
    }
   ],
   "source": [
    "df = pd.read_pickle('stock_data.pickle')\n",
    "df.head()"
   ]
  },
  {
   "cell_type": "code",
   "execution_count": 49,
   "metadata": {
    "scrolled": true
   },
   "outputs": [
    {
     "data": {
      "text/html": [
       "<div>\n",
       "<style scoped>\n",
       "    .dataframe tbody tr th:only-of-type {\n",
       "        vertical-align: middle;\n",
       "    }\n",
       "\n",
       "    .dataframe tbody tr th {\n",
       "        vertical-align: top;\n",
       "    }\n",
       "\n",
       "    .dataframe thead th {\n",
       "        text-align: right;\n",
       "    }\n",
       "</style>\n",
       "<table border=\"1\" class=\"dataframe\">\n",
       "  <thead>\n",
       "    <tr style=\"text-align: right;\">\n",
       "      <th></th>\n",
       "      <th>ticker</th>\n",
       "      <th>date</th>\n",
       "      <th>price</th>\n",
       "      <th>price_1m</th>\n",
       "      <th>price_6m</th>\n",
       "      <th>price_1y</th>\n",
       "      <th>market</th>\n",
       "      <th>sector</th>\n",
       "      <th>industry</th>\n",
       "      <th>net_income</th>\n",
       "      <th>...</th>\n",
       "      <th>current_ratio</th>\n",
       "      <th>long_term_debt_2_capital</th>\n",
       "      <th>debt2equity_ratio</th>\n",
       "      <th>total_non_operating_income2expense</th>\n",
       "      <th>earnings2price</th>\n",
       "      <th>book2price</th>\n",
       "      <th>month</th>\n",
       "      <th>gain_1m</th>\n",
       "      <th>gain_6m</th>\n",
       "      <th>gain_1y</th>\n",
       "    </tr>\n",
       "  </thead>\n",
       "  <tbody>\n",
       "    <tr>\n",
       "      <th>0</th>\n",
       "      <td>AAPL</td>\n",
       "      <td>2020-06-30</td>\n",
       "      <td>360.079987</td>\n",
       "      <td>376.750000</td>\n",
       "      <td>NaN</td>\n",
       "      <td>NaN</td>\n",
       "      <td>us_market</td>\n",
       "      <td>Technology</td>\n",
       "      <td>Consumer Electronics</td>\n",
       "      <td>11253.0</td>\n",
       "      <td>...</td>\n",
       "      <td>1.4695</td>\n",
       "      <td>0.5654</td>\n",
       "      <td>1.5595</td>\n",
       "      <td>46.0</td>\n",
       "      <td>0.007165</td>\n",
       "      <td>0.046858</td>\n",
       "      <td>6</td>\n",
       "      <td>0.045256</td>\n",
       "      <td>NaN</td>\n",
       "      <td>NaN</td>\n",
       "    </tr>\n",
       "    <tr>\n",
       "      <th>1</th>\n",
       "      <td>AAPL</td>\n",
       "      <td>2020-03-31</td>\n",
       "      <td>255.600006</td>\n",
       "      <td>289.959991</td>\n",
       "      <td>NaN</td>\n",
       "      <td>NaN</td>\n",
       "      <td>us_market</td>\n",
       "      <td>Technology</td>\n",
       "      <td>Consumer Electronics</td>\n",
       "      <td>11249.0</td>\n",
       "      <td>...</td>\n",
       "      <td>1.4960</td>\n",
       "      <td>0.5318</td>\n",
       "      <td>1.3963</td>\n",
       "      <td>282.0</td>\n",
       "      <td>0.009977</td>\n",
       "      <td>0.070959</td>\n",
       "      <td>3</td>\n",
       "      <td>0.126129</td>\n",
       "      <td>NaN</td>\n",
       "      <td>NaN</td>\n",
       "    </tr>\n",
       "    <tr>\n",
       "      <th>2</th>\n",
       "      <td>AAPL</td>\n",
       "      <td>2019-12-31</td>\n",
       "      <td>289.929993</td>\n",
       "      <td>320.540009</td>\n",
       "      <td>353.250000</td>\n",
       "      <td>NaN</td>\n",
       "      <td>us_market</td>\n",
       "      <td>Technology</td>\n",
       "      <td>Consumer Electronics</td>\n",
       "      <td>22236.0</td>\n",
       "      <td>...</td>\n",
       "      <td>1.5978</td>\n",
       "      <td>0.5097</td>\n",
       "      <td>1.2095</td>\n",
       "      <td>349.0</td>\n",
       "      <td>0.017211</td>\n",
       "      <td>0.070423</td>\n",
       "      <td>12</td>\n",
       "      <td>0.100368</td>\n",
       "      <td>0.197537</td>\n",
       "      <td>NaN</td>\n",
       "    </tr>\n",
       "    <tr>\n",
       "      <th>3</th>\n",
       "      <td>AAPL</td>\n",
       "      <td>2019-09-30</td>\n",
       "      <td>220.899994</td>\n",
       "      <td>244.759995</td>\n",
       "      <td>250.740005</td>\n",
       "      <td>NaN</td>\n",
       "      <td>us_market</td>\n",
       "      <td>Technology</td>\n",
       "      <td>Consumer Electronics</td>\n",
       "      <td>13686.0</td>\n",
       "      <td>...</td>\n",
       "      <td>1.5401</td>\n",
       "      <td>0.5036</td>\n",
       "      <td>1.1940</td>\n",
       "      <td>502.0</td>\n",
       "      <td>0.013898</td>\n",
       "      <td>0.092192</td>\n",
       "      <td>9</td>\n",
       "      <td>0.102568</td>\n",
       "      <td>0.126706</td>\n",
       "      <td>NaN</td>\n",
       "    </tr>\n",
       "    <tr>\n",
       "      <th>4</th>\n",
       "      <td>AAPL</td>\n",
       "      <td>2019-06-30</td>\n",
       "      <td>203.169998</td>\n",
       "      <td>208.759995</td>\n",
       "      <td>291.119995</td>\n",
       "      <td>353.25</td>\n",
       "      <td>us_market</td>\n",
       "      <td>Technology</td>\n",
       "      <td>Consumer Electronics</td>\n",
       "      <td>10044.0</td>\n",
       "      <td>...</td>\n",
       "      <td>1.5046</td>\n",
       "      <td>0.4682</td>\n",
       "      <td>1.1240</td>\n",
       "      <td>367.0</td>\n",
       "      <td>0.010730</td>\n",
       "      <td>0.104770</td>\n",
       "      <td>6</td>\n",
       "      <td>0.027142</td>\n",
       "      <td>0.359692</td>\n",
       "      <td>0.553133</td>\n",
       "    </tr>\n",
       "  </tbody>\n",
       "</table>\n",
       "<p>5 rows × 24 columns</p>\n",
       "</div>"
      ],
      "text/plain": [
       "  ticker       date       price    price_1m    price_6m  price_1y     market  \\\n",
       "0   AAPL 2020-06-30  360.079987  376.750000         NaN       NaN  us_market   \n",
       "1   AAPL 2020-03-31  255.600006  289.959991         NaN       NaN  us_market   \n",
       "2   AAPL 2019-12-31  289.929993  320.540009  353.250000       NaN  us_market   \n",
       "3   AAPL 2019-09-30  220.899994  244.759995  250.740005       NaN  us_market   \n",
       "4   AAPL 2019-06-30  203.169998  208.759995  291.119995    353.25  us_market   \n",
       "\n",
       "       sector              industry  net_income  ...  current_ratio  \\\n",
       "0  Technology  Consumer Electronics     11253.0  ...         1.4695   \n",
       "1  Technology  Consumer Electronics     11249.0  ...         1.4960   \n",
       "2  Technology  Consumer Electronics     22236.0  ...         1.5978   \n",
       "3  Technology  Consumer Electronics     13686.0  ...         1.5401   \n",
       "4  Technology  Consumer Electronics     10044.0  ...         1.5046   \n",
       "\n",
       "   long_term_debt_2_capital  debt2equity_ratio  \\\n",
       "0                    0.5654             1.5595   \n",
       "1                    0.5318             1.3963   \n",
       "2                    0.5097             1.2095   \n",
       "3                    0.5036             1.1940   \n",
       "4                    0.4682             1.1240   \n",
       "\n",
       "   total_non_operating_income2expense  earnings2price  book2price  month  \\\n",
       "0                                46.0        0.007165    0.046858      6   \n",
       "1                               282.0        0.009977    0.070959      3   \n",
       "2                               349.0        0.017211    0.070423     12   \n",
       "3                               502.0        0.013898    0.092192      9   \n",
       "4                               367.0        0.010730    0.104770      6   \n",
       "\n",
       "    gain_1m   gain_6m   gain_1y  \n",
       "0  0.045256       NaN       NaN  \n",
       "1  0.126129       NaN       NaN  \n",
       "2  0.100368  0.197537       NaN  \n",
       "3  0.102568  0.126706       NaN  \n",
       "4  0.027142  0.359692  0.553133  \n",
       "\n",
       "[5 rows x 24 columns]"
      ]
     },
     "execution_count": 49,
     "metadata": {},
     "output_type": "execute_result"
    }
   ],
   "source": [
    "df['earnings2price'] = df['eps'] / df['price']\n",
    "df['book2price'] = df['book_value_per_share'] / df['price']\n",
    "df['month'] = df['date'].dt.month\n",
    "\n",
    "df['gain_1m'] = df['price_1m'] / df['price']\n",
    "df['gain_6m'] = df['price_6m'] / df['price']\n",
    "df['gain_1y'] = df['price_1y'] / df['price']\n",
    "\n",
    "# So negative gain is a negative number \n",
    "df['gain_1m'] = np.log(df['gain_1m'])\n",
    "df['gain_6m'] = np.log(df['gain_6m'])\n",
    "df['gain_1y'] = np.log(df['gain_1y'])\n",
    "\n",
    "df.head()"
   ]
  },
  {
   "cell_type": "markdown",
   "metadata": {},
   "source": [
    "# specify categorical and continuous columns\n",
    "Categorical columns will use embedding"
   ]
  },
  {
   "cell_type": "code",
   "execution_count": 4,
   "metadata": {},
   "outputs": [],
   "source": [
    "cat_cols = 'sector industry month'.split()# market\n",
    "for col in cat_cols:\n",
    "    df[col] = df[col].fillna('?')\n",
    "    df[col] = df[col].astype('category')"
   ]
  },
  {
   "cell_type": "code",
   "execution_count": 5,
   "metadata": {},
   "outputs": [],
   "source": [
    "con_cols = 'net_income revenue earnings2price book2price current_ratio long_term_debt_2_capital debt2equity_ratio total_non_operating_income2expense'.split()"
   ]
  },
  {
   "cell_type": "markdown",
   "metadata": {},
   "source": [
    "# specify cols to predict"
   ]
  },
  {
   "cell_type": "code",
   "execution_count": 6,
   "metadata": {},
   "outputs": [],
   "source": [
    "lbl_cols = 'gain_1y'.split()"
   ]
  },
  {
   "cell_type": "markdown",
   "metadata": {},
   "source": [
    "# types"
   ]
  },
  {
   "cell_type": "code",
   "execution_count": 7,
   "metadata": {
    "scrolled": true
   },
   "outputs": [
    {
     "data": {
      "text/plain": [
       "ticker                                        string\n",
       "date                                  datetime64[ns]\n",
       "price                                        float64\n",
       "price_1m                                     float64\n",
       "price_6m                                     float64\n",
       "price_1y                                     float64\n",
       "market                                        string\n",
       "sector                                      category\n",
       "industry                                    category\n",
       "net_income                                   float64\n",
       "revenue                                      float64\n",
       "research_and_development_expenses            float64\n",
       "earnings2price                               float64\n",
       "book2price                                   float64\n",
       "current_ratio                                float64\n",
       "long_term_debt_2_capital                     float64\n",
       "debt2equity_ratio                            float64\n",
       "total_non_operating_income2expense           float64\n",
       "month                                       category\n",
       "gain_1m                                      float64\n",
       "gain_6m                                      float64\n",
       "gain_1y                                      float64\n",
       "dtype: object"
      ]
     },
     "execution_count": 7,
     "metadata": {},
     "output_type": "execute_result"
    }
   ],
   "source": [
    "df.dtypes"
   ]
  },
  {
   "cell_type": "markdown",
   "metadata": {},
   "source": [
    "# current data"
   ]
  },
  {
   "cell_type": "code",
   "execution_count": 8,
   "metadata": {},
   "outputs": [
    {
     "data": {
      "text/html": [
       "<div>\n",
       "<style scoped>\n",
       "    .dataframe tbody tr th:only-of-type {\n",
       "        vertical-align: middle;\n",
       "    }\n",
       "\n",
       "    .dataframe tbody tr th {\n",
       "        vertical-align: top;\n",
       "    }\n",
       "\n",
       "    .dataframe thead th {\n",
       "        text-align: right;\n",
       "    }\n",
       "</style>\n",
       "<table border=\"1\" class=\"dataframe\">\n",
       "  <thead>\n",
       "    <tr style=\"text-align: right;\">\n",
       "      <th></th>\n",
       "      <th>ticker</th>\n",
       "      <th>sector</th>\n",
       "      <th>industry</th>\n",
       "      <th>month</th>\n",
       "      <th>net_income</th>\n",
       "      <th>revenue</th>\n",
       "      <th>earnings2price</th>\n",
       "      <th>book2price</th>\n",
       "      <th>current_ratio</th>\n",
       "      <th>long_term_debt_2_capital</th>\n",
       "      <th>debt2equity_ratio</th>\n",
       "      <th>total_non_operating_income2expense</th>\n",
       "      <th>date</th>\n",
       "    </tr>\n",
       "  </thead>\n",
       "  <tbody>\n",
       "    <tr>\n",
       "      <th>0</th>\n",
       "      <td>AAPL</td>\n",
       "      <td>Technology</td>\n",
       "      <td>Consumer Electronics</td>\n",
       "      <td>6</td>\n",
       "      <td>11253.0</td>\n",
       "      <td>59685.0</td>\n",
       "      <td>0.007165</td>\n",
       "      <td>0.046858</td>\n",
       "      <td>1.4695</td>\n",
       "      <td>0.5654</td>\n",
       "      <td>1.5595</td>\n",
       "      <td>46.0</td>\n",
       "      <td>2020-06-30</td>\n",
       "    </tr>\n",
       "    <tr>\n",
       "      <th>0</th>\n",
       "      <td>AMZN</td>\n",
       "      <td>Consumer Cyclical</td>\n",
       "      <td>Internet Retail</td>\n",
       "      <td>6</td>\n",
       "      <td>5243.0</td>\n",
       "      <td>88912.0</td>\n",
       "      <td>0.003836</td>\n",
       "      <td>0.054807</td>\n",
       "      <td>1.1812</td>\n",
       "      <td>0.3100</td>\n",
       "      <td>0.4493</td>\n",
       "      <td>378.0</td>\n",
       "      <td>2020-06-30</td>\n",
       "    </tr>\n",
       "    <tr>\n",
       "      <th>0</th>\n",
       "      <td>GOOG</td>\n",
       "      <td>Communication Services</td>\n",
       "      <td>Internet Content &amp; Information</td>\n",
       "      <td>6</td>\n",
       "      <td>6959.0</td>\n",
       "      <td>38297.0</td>\n",
       "      <td>0.007285</td>\n",
       "      <td>0.216538</td>\n",
       "      <td>3.4145</td>\n",
       "      <td>0.0663</td>\n",
       "      <td>0.0710</td>\n",
       "      <td>1894.0</td>\n",
       "      <td>2020-06-30</td>\n",
       "    </tr>\n",
       "    <tr>\n",
       "      <th>0</th>\n",
       "      <td>GOOGL</td>\n",
       "      <td>Communication Services</td>\n",
       "      <td>Internet Content &amp; Information</td>\n",
       "      <td>6</td>\n",
       "      <td>6959.0</td>\n",
       "      <td>38297.0</td>\n",
       "      <td>0.007252</td>\n",
       "      <td>0.215539</td>\n",
       "      <td>3.4145</td>\n",
       "      <td>0.0663</td>\n",
       "      <td>0.0710</td>\n",
       "      <td>1894.0</td>\n",
       "      <td>2020-06-30</td>\n",
       "    </tr>\n",
       "    <tr>\n",
       "      <th>0</th>\n",
       "      <td>MSFT</td>\n",
       "      <td>Technology</td>\n",
       "      <td>Software—Infrastructure</td>\n",
       "      <td>6</td>\n",
       "      <td>11202.0</td>\n",
       "      <td>38033.0</td>\n",
       "      <td>0.007429</td>\n",
       "      <td>0.078967</td>\n",
       "      <td>2.5158</td>\n",
       "      <td>0.3624</td>\n",
       "      <td>0.6001</td>\n",
       "      <td>15.0</td>\n",
       "      <td>2020-06-30</td>\n",
       "    </tr>\n",
       "  </tbody>\n",
       "</table>\n",
       "</div>"
      ],
      "text/plain": [
       "  ticker                  sector                        industry month  \\\n",
       "0   AAPL              Technology            Consumer Electronics     6   \n",
       "0   AMZN       Consumer Cyclical                 Internet Retail     6   \n",
       "0   GOOG  Communication Services  Internet Content & Information     6   \n",
       "0  GOOGL  Communication Services  Internet Content & Information     6   \n",
       "0   MSFT              Technology         Software—Infrastructure     6   \n",
       "\n",
       "   net_income  revenue  earnings2price  book2price  current_ratio  \\\n",
       "0     11253.0  59685.0        0.007165    0.046858         1.4695   \n",
       "0      5243.0  88912.0        0.003836    0.054807         1.1812   \n",
       "0      6959.0  38297.0        0.007285    0.216538         3.4145   \n",
       "0      6959.0  38297.0        0.007252    0.215539         3.4145   \n",
       "0     11202.0  38033.0        0.007429    0.078967         2.5158   \n",
       "\n",
       "   long_term_debt_2_capital  debt2equity_ratio  \\\n",
       "0                    0.5654             1.5595   \n",
       "0                    0.3100             0.4493   \n",
       "0                    0.0663             0.0710   \n",
       "0                    0.0663             0.0710   \n",
       "0                    0.3624             0.6001   \n",
       "\n",
       "   total_non_operating_income2expense       date  \n",
       "0                                46.0 2020-06-30  \n",
       "0                               378.0 2020-06-30  \n",
       "0                              1894.0 2020-06-30  \n",
       "0                              1894.0 2020-06-30  \n",
       "0                                15.0 2020-06-30  "
      ]
     },
     "execution_count": 8,
     "metadata": {},
     "output_type": "execute_result"
    }
   ],
   "source": [
    "latest = df.loc[0][['ticker', *cat_cols, *con_cols, 'date']]\n",
    "latest = latest.dropna()\n",
    "latest.head()"
   ]
  },
  {
   "cell_type": "markdown",
   "metadata": {},
   "source": [
    "# data for training"
   ]
  },
  {
   "cell_type": "code",
   "execution_count": 9,
   "metadata": {},
   "outputs": [
    {
     "data": {
      "text/html": [
       "<div>\n",
       "<style scoped>\n",
       "    .dataframe tbody tr th:only-of-type {\n",
       "        vertical-align: middle;\n",
       "    }\n",
       "\n",
       "    .dataframe tbody tr th {\n",
       "        vertical-align: top;\n",
       "    }\n",
       "\n",
       "    .dataframe thead th {\n",
       "        text-align: right;\n",
       "    }\n",
       "</style>\n",
       "<table border=\"1\" class=\"dataframe\">\n",
       "  <thead>\n",
       "    <tr style=\"text-align: right;\">\n",
       "      <th></th>\n",
       "      <th>sector</th>\n",
       "      <th>industry</th>\n",
       "      <th>month</th>\n",
       "      <th>net_income</th>\n",
       "      <th>revenue</th>\n",
       "      <th>earnings2price</th>\n",
       "      <th>book2price</th>\n",
       "      <th>current_ratio</th>\n",
       "      <th>long_term_debt_2_capital</th>\n",
       "      <th>debt2equity_ratio</th>\n",
       "      <th>total_non_operating_income2expense</th>\n",
       "      <th>gain_1y</th>\n",
       "    </tr>\n",
       "  </thead>\n",
       "  <tbody>\n",
       "    <tr>\n",
       "      <th>0</th>\n",
       "      <td>Technology</td>\n",
       "      <td>Consumer Electronics</td>\n",
       "      <td>6</td>\n",
       "      <td>11253.0</td>\n",
       "      <td>59685.0</td>\n",
       "      <td>0.007165</td>\n",
       "      <td>0.046858</td>\n",
       "      <td>1.4695</td>\n",
       "      <td>0.5654</td>\n",
       "      <td>1.5595</td>\n",
       "      <td>46.0</td>\n",
       "      <td>NaN</td>\n",
       "    </tr>\n",
       "    <tr>\n",
       "      <th>1</th>\n",
       "      <td>Technology</td>\n",
       "      <td>Consumer Electronics</td>\n",
       "      <td>3</td>\n",
       "      <td>11249.0</td>\n",
       "      <td>58313.0</td>\n",
       "      <td>0.009977</td>\n",
       "      <td>0.070959</td>\n",
       "      <td>1.4960</td>\n",
       "      <td>0.5318</td>\n",
       "      <td>1.3963</td>\n",
       "      <td>282.0</td>\n",
       "      <td>NaN</td>\n",
       "    </tr>\n",
       "    <tr>\n",
       "      <th>2</th>\n",
       "      <td>Technology</td>\n",
       "      <td>Consumer Electronics</td>\n",
       "      <td>12</td>\n",
       "      <td>22236.0</td>\n",
       "      <td>91819.0</td>\n",
       "      <td>0.017211</td>\n",
       "      <td>0.070423</td>\n",
       "      <td>1.5978</td>\n",
       "      <td>0.5097</td>\n",
       "      <td>1.2095</td>\n",
       "      <td>349.0</td>\n",
       "      <td>NaN</td>\n",
       "    </tr>\n",
       "    <tr>\n",
       "      <th>3</th>\n",
       "      <td>Technology</td>\n",
       "      <td>Consumer Electronics</td>\n",
       "      <td>9</td>\n",
       "      <td>13686.0</td>\n",
       "      <td>64040.0</td>\n",
       "      <td>0.013898</td>\n",
       "      <td>0.092192</td>\n",
       "      <td>1.5401</td>\n",
       "      <td>0.5036</td>\n",
       "      <td>1.1940</td>\n",
       "      <td>502.0</td>\n",
       "      <td>NaN</td>\n",
       "    </tr>\n",
       "    <tr>\n",
       "      <th>4</th>\n",
       "      <td>Technology</td>\n",
       "      <td>Consumer Electronics</td>\n",
       "      <td>6</td>\n",
       "      <td>10044.0</td>\n",
       "      <td>53809.0</td>\n",
       "      <td>0.010730</td>\n",
       "      <td>0.104770</td>\n",
       "      <td>1.5046</td>\n",
       "      <td>0.4682</td>\n",
       "      <td>1.1240</td>\n",
       "      <td>367.0</td>\n",
       "      <td>0.553133</td>\n",
       "    </tr>\n",
       "  </tbody>\n",
       "</table>\n",
       "</div>"
      ],
      "text/plain": [
       "       sector              industry month  net_income  revenue  \\\n",
       "0  Technology  Consumer Electronics     6     11253.0  59685.0   \n",
       "1  Technology  Consumer Electronics     3     11249.0  58313.0   \n",
       "2  Technology  Consumer Electronics    12     22236.0  91819.0   \n",
       "3  Technology  Consumer Electronics     9     13686.0  64040.0   \n",
       "4  Technology  Consumer Electronics     6     10044.0  53809.0   \n",
       "\n",
       "   earnings2price  book2price  current_ratio  long_term_debt_2_capital  \\\n",
       "0        0.007165    0.046858         1.4695                    0.5654   \n",
       "1        0.009977    0.070959         1.4960                    0.5318   \n",
       "2        0.017211    0.070423         1.5978                    0.5097   \n",
       "3        0.013898    0.092192         1.5401                    0.5036   \n",
       "4        0.010730    0.104770         1.5046                    0.4682   \n",
       "\n",
       "   debt2equity_ratio  total_non_operating_income2expense   gain_1y  \n",
       "0             1.5595                                46.0       NaN  \n",
       "1             1.3963                               282.0       NaN  \n",
       "2             1.2095                               349.0       NaN  \n",
       "3             1.1940                               502.0       NaN  \n",
       "4             1.1240                               367.0  0.553133  "
      ]
     },
     "execution_count": 9,
     "metadata": {},
     "output_type": "execute_result"
    }
   ],
   "source": [
    "df = df[[*cat_cols, *con_cols, *lbl_cols]]\n",
    "df.head()"
   ]
  },
  {
   "cell_type": "markdown",
   "metadata": {},
   "source": [
    "# check na"
   ]
  },
  {
   "cell_type": "code",
   "execution_count": 10,
   "metadata": {},
   "outputs": [
    {
     "name": "stdout",
     "output_type": "stream",
     "text": [
      "sector 0\n",
      "industry 0\n",
      "month 0\n",
      "net_income 2000\n",
      "revenue 2723\n",
      "earnings2price 5769\n",
      "book2price 14789\n",
      "current_ratio 17028\n",
      "long_term_debt_2_capital 13109\n",
      "debt2equity_ratio 10886\n",
      "total_non_operating_income2expense 9751\n",
      "gain_1y 11884\n"
     ]
    }
   ],
   "source": [
    "for col in df.columns:\n",
    "    print(col, sum(df[col].isna()))"
   ]
  },
  {
   "cell_type": "markdown",
   "metadata": {},
   "source": [
    "# cleanup na"
   ]
  },
  {
   "cell_type": "code",
   "execution_count": 11,
   "metadata": {},
   "outputs": [
    {
     "name": "stdout",
     "output_type": "stream",
     "text": [
      "(82930, 12)\n"
     ]
    },
    {
     "data": {
      "text/plain": [
       "(43524, 12)"
      ]
     },
     "execution_count": 11,
     "metadata": {},
     "output_type": "execute_result"
    }
   ],
   "source": [
    "print(df.shape)\n",
    "df = df.dropna()\n",
    "df.shape"
   ]
  },
  {
   "cell_type": "markdown",
   "metadata": {},
   "source": [
    "# inspect data"
   ]
  },
  {
   "cell_type": "code",
   "execution_count": 12,
   "metadata": {},
   "outputs": [
    {
     "name": "stdout",
     "output_type": "stream",
     "text": [
      "net_income\n"
     ]
    },
    {
     "data": {
      "image/png": "[encoded data removed]",
      "text/plain": [
       "<Figure size 432x288 with 1 Axes>"
      ]
     },
     "metadata": {
      "needs_background": "light"
     },
     "output_type": "display_data"
    },
    {
     "name": "stdout",
     "output_type": "stream",
     "text": [
      "revenue\n"
     ]
    },
    {
     "data": {
      "image/png": "[encoded data removed]",
      "text/plain": [
       "<Figure size 432x288 with 1 Axes>"
      ]
     },
     "metadata": {
      "needs_background": "light"
     },
     "output_type": "display_data"
    },
    {
     "name": "stdout",
     "output_type": "stream",
     "text": [
      "earnings2price\n"
     ]
    },
    {
     "data": {
      "image/png": "[encoded data removed]",
      "text/plain": [
       "<Figure size 432x288 with 1 Axes>"
      ]
     },
     "metadata": {
      "needs_background": "light"
     },
     "output_type": "display_data"
    },
    {
     "name": "stdout",
     "output_type": "stream",
     "text": [
      "book2price\n"
     ]
    },
    {
     "data": {
      "image/png": "[encoded data removed]",
      "text/plain": [
       "<Figure size 432x288 with 1 Axes>"
      ]
     },
     "metadata": {
      "needs_background": "light"
     },
     "output_type": "display_data"
    },
    {
     "name": "stdout",
     "output_type": "stream",
     "text": [
      "current_ratio\n"
     ]
    },
    {
     "data": {
      "image/png": "[encoded data removed]",
      "text/plain": [
       "<Figure size 432x288 with 1 Axes>"
      ]
     },
     "metadata": {
      "needs_background": "light"
     },
     "output_type": "display_data"
    },
    {
     "name": "stdout",
     "output_type": "stream",
     "text": [
      "long_term_debt_2_capital\n"
     ]
    },
    {
     "data": {
      "image/png": "[encoded data removed]",
      "text/plain": [
       "<Figure size 432x288 with 1 Axes>"
      ]
     },
     "metadata": {
      "needs_background": "light"
     },
     "output_type": "display_data"
    },
    {
     "name": "stdout",
     "output_type": "stream",
     "text": [
      "debt2equity_ratio\n"
     ]
    },
    {
     "data": {
      "image/png": "[encoded data removed]",
      "text/plain": [
       "<Figure size 432x288 with 1 Axes>"
      ]
     },
     "metadata": {
      "needs_background": "light"
     },
     "output_type": "display_data"
    },
    {
     "name": "stdout",
     "output_type": "stream",
     "text": [
      "total_non_operating_income2expense\n"
     ]
    },
    {
     "data": {
      "image/png": "[encoded data removed]",
      "text/plain": [
       "<Figure size 432x288 with 1 Axes>"
      ]
     },
     "metadata": {
      "needs_background": "light"
     },
     "output_type": "display_data"
    }
   ],
   "source": [
    "for col in con_cols:\n",
    "    print(col)\n",
    "    plt.plot(df[col].sort_values().values)\n",
    "    plt.show()"
   ]
  },
  {
   "cell_type": "markdown",
   "metadata": {},
   "source": [
    "# cleanup"
   ]
  },
  {
   "cell_type": "code",
   "execution_count": 13,
   "metadata": {},
   "outputs": [
    {
     "name": "stdout",
     "output_type": "stream",
     "text": [
      "before (43524, 12)\n",
      "after (39551, 12)\n",
      "before (1177, 13)\n",
      "after (1041, 13)\n",
      "net_income\n"
     ]
    },
    {
     "data": {
      "image/png": "[encoded data removed]",
      "text/plain": [
       "<Figure size 432x288 with 1 Axes>"
      ]
     },
     "metadata": {
      "needs_background": "light"
     },
     "output_type": "display_data"
    },
    {
     "name": "stdout",
     "output_type": "stream",
     "text": [
      "revenue\n"
     ]
    },
    {
     "data": {
      "image/png": "[encoded data removed]",
      "text/plain": [
       "<Figure size 432x288 with 1 Axes>"
      ]
     },
     "metadata": {
      "needs_background": "light"
     },
     "output_type": "display_data"
    },
    {
     "name": "stdout",
     "output_type": "stream",
     "text": [
      "earnings2price\n"
     ]
    },
    {
     "data": {
      "image/png": "[encoded data removed]",
      "text/plain": [
       "<Figure size 432x288 with 1 Axes>"
      ]
     },
     "metadata": {
      "needs_background": "light"
     },
     "output_type": "display_data"
    },
    {
     "name": "stdout",
     "output_type": "stream",
     "text": [
      "book2price\n"
     ]
    },
    {
     "data": {
      "image/png": "[encoded data removed]",
      "text/plain": [
       "<Figure size 432x288 with 1 Axes>"
      ]
     },
     "metadata": {
      "needs_background": "light"
     },
     "output_type": "display_data"
    },
    {
     "name": "stdout",
     "output_type": "stream",
     "text": [
      "current_ratio\n"
     ]
    },
    {
     "data": {
      "image/png": "[encoded data removed]",
      "text/plain": [
       "<Figure size 432x288 with 1 Axes>"
      ]
     },
     "metadata": {
      "needs_background": "light"
     },
     "output_type": "display_data"
    },
    {
     "name": "stdout",
     "output_type": "stream",
     "text": [
      "long_term_debt_2_capital\n"
     ]
    },
    {
     "data": {
      "image/png": "[encoded data removed]",
      "text/plain": [
       "<Figure size 432x288 with 1 Axes>"
      ]
     },
     "metadata": {
      "needs_background": "light"
     },
     "output_type": "display_data"
    },
    {
     "name": "stdout",
     "output_type": "stream",
     "text": [
      "debt2equity_ratio\n"
     ]
    },
    {
     "data": {
      "image/png": "[encoded data removed]",
      "text/plain": [
       "<Figure size 432x288 with 1 Axes>"
      ]
     },
     "metadata": {
      "needs_background": "light"
     },
     "output_type": "display_data"
    },
    {
     "name": "stdout",
     "output_type": "stream",
     "text": [
      "total_non_operating_income2expense\n"
     ]
    },
    {
     "data": {
      "image/png": "[encoded data removed]",
      "text/plain": [
       "<Figure size 432x288 with 1 Axes>"
      ]
     },
     "metadata": {
      "needs_background": "light"
     },
     "output_type": "display_data"
    }
   ],
   "source": [
    "def remove_outliers(df):\n",
    "    print('before', df.shape)\n",
    "    df = df.query('-1000 < net_income < 1000')\n",
    "    df = df.query('-1000 < revenue < 50000')\n",
    "    df = df.query('-.1 < earnings2price < .1')\n",
    "    df = df.query('-1 < book2price < 5')\n",
    "    df = df.query('current_ratio < 20')\n",
    "    df = df.query('-20 < long_term_debt_2_capital < 20')\n",
    "    df = df.query('-50 < debt2equity_ratio < 50')\n",
    "    df = df.query('-1000 < total_non_operating_income2expense < 1000')\n",
    "    print('after', df.shape)\n",
    "    return df\n",
    "    \n",
    "df     = remove_outliers(df)\n",
    "latest = remove_outliers(latest)\n",
    "\n",
    "for col in con_cols:\n",
    "    print(col)\n",
    "    plt.plot(df[col].sort_values().values)\n",
    "    plt.show()"
   ]
  },
  {
   "cell_type": "markdown",
   "metadata": {},
   "source": [
    "# look for correlations\n",
    "Strangely there don't seem to be any obvious ones. Even distance vs duration seems mostly random... very surprising..."
   ]
  },
  {
   "cell_type": "code",
   "execution_count": 14,
   "metadata": {},
   "outputs": [
    {
     "data": {
      "text/html": [
       "<div>\n",
       "<style scoped>\n",
       "    .dataframe tbody tr th:only-of-type {\n",
       "        vertical-align: middle;\n",
       "    }\n",
       "\n",
       "    .dataframe tbody tr th {\n",
       "        vertical-align: top;\n",
       "    }\n",
       "\n",
       "    .dataframe thead th {\n",
       "        text-align: right;\n",
       "    }\n",
       "</style>\n",
       "<table border=\"1\" class=\"dataframe\">\n",
       "  <thead>\n",
       "    <tr style=\"text-align: right;\">\n",
       "      <th></th>\n",
       "      <th>gain_1y</th>\n",
       "      <th>net_income</th>\n",
       "      <th>revenue</th>\n",
       "      <th>earnings2price</th>\n",
       "      <th>book2price</th>\n",
       "      <th>current_ratio</th>\n",
       "      <th>long_term_debt_2_capital</th>\n",
       "      <th>debt2equity_ratio</th>\n",
       "      <th>total_non_operating_income2expense</th>\n",
       "    </tr>\n",
       "  </thead>\n",
       "  <tbody>\n",
       "    <tr>\n",
       "      <th>gain_1y</th>\n",
       "      <td>1.000000</td>\n",
       "      <td>-0.040447</td>\n",
       "      <td>-0.036101</td>\n",
       "      <td>0.018314</td>\n",
       "      <td>0.010488</td>\n",
       "      <td>0.021522</td>\n",
       "      <td>0.008690</td>\n",
       "      <td>-0.005888</td>\n",
       "      <td>0.033647</td>\n",
       "    </tr>\n",
       "    <tr>\n",
       "      <th>net_income</th>\n",
       "      <td>-0.040447</td>\n",
       "      <td>1.000000</td>\n",
       "      <td>0.480518</td>\n",
       "      <td>0.430046</td>\n",
       "      <td>-0.026475</td>\n",
       "      <td>-0.154748</td>\n",
       "      <td>-0.016055</td>\n",
       "      <td>-0.010983</td>\n",
       "      <td>-0.073625</td>\n",
       "    </tr>\n",
       "    <tr>\n",
       "      <th>revenue</th>\n",
       "      <td>-0.036101</td>\n",
       "      <td>0.480518</td>\n",
       "      <td>1.000000</td>\n",
       "      <td>0.120176</td>\n",
       "      <td>0.073531</td>\n",
       "      <td>-0.183396</td>\n",
       "      <td>0.008069</td>\n",
       "      <td>0.013127</td>\n",
       "      <td>-0.235797</td>\n",
       "    </tr>\n",
       "    <tr>\n",
       "      <th>earnings2price</th>\n",
       "      <td>0.018314</td>\n",
       "      <td>0.430046</td>\n",
       "      <td>0.120176</td>\n",
       "      <td>1.000000</td>\n",
       "      <td>0.117504</td>\n",
       "      <td>-0.160386</td>\n",
       "      <td>-0.032052</td>\n",
       "      <td>-0.005896</td>\n",
       "      <td>0.083699</td>\n",
       "    </tr>\n",
       "    <tr>\n",
       "      <th>book2price</th>\n",
       "      <td>0.010488</td>\n",
       "      <td>-0.026475</td>\n",
       "      <td>0.073531</td>\n",
       "      <td>0.117504</td>\n",
       "      <td>1.000000</td>\n",
       "      <td>-0.079441</td>\n",
       "      <td>-0.161148</td>\n",
       "      <td>0.005012</td>\n",
       "      <td>-0.095129</td>\n",
       "    </tr>\n",
       "    <tr>\n",
       "      <th>current_ratio</th>\n",
       "      <td>0.021522</td>\n",
       "      <td>-0.154748</td>\n",
       "      <td>-0.183396</td>\n",
       "      <td>-0.160386</td>\n",
       "      <td>-0.079441</td>\n",
       "      <td>1.000000</td>\n",
       "      <td>-0.151386</td>\n",
       "      <td>-0.057630</td>\n",
       "      <td>0.171601</td>\n",
       "    </tr>\n",
       "    <tr>\n",
       "      <th>long_term_debt_2_capital</th>\n",
       "      <td>0.008690</td>\n",
       "      <td>-0.016055</td>\n",
       "      <td>0.008069</td>\n",
       "      <td>-0.032052</td>\n",
       "      <td>-0.161148</td>\n",
       "      <td>-0.151386</td>\n",
       "      <td>1.000000</td>\n",
       "      <td>0.055675</td>\n",
       "      <td>-0.138856</td>\n",
       "    </tr>\n",
       "    <tr>\n",
       "      <th>debt2equity_ratio</th>\n",
       "      <td>-0.005888</td>\n",
       "      <td>-0.010983</td>\n",
       "      <td>0.013127</td>\n",
       "      <td>-0.005896</td>\n",
       "      <td>0.005012</td>\n",
       "      <td>-0.057630</td>\n",
       "      <td>0.055675</td>\n",
       "      <td>1.000000</td>\n",
       "      <td>-0.096026</td>\n",
       "    </tr>\n",
       "    <tr>\n",
       "      <th>total_non_operating_income2expense</th>\n",
       "      <td>0.033647</td>\n",
       "      <td>-0.073625</td>\n",
       "      <td>-0.235797</td>\n",
       "      <td>0.083699</td>\n",
       "      <td>-0.095129</td>\n",
       "      <td>0.171601</td>\n",
       "      <td>-0.138856</td>\n",
       "      <td>-0.096026</td>\n",
       "      <td>1.000000</td>\n",
       "    </tr>\n",
       "  </tbody>\n",
       "</table>\n",
       "</div>"
      ],
      "text/plain": [
       "                                     gain_1y  net_income   revenue  \\\n",
       "gain_1y                             1.000000   -0.040447 -0.036101   \n",
       "net_income                         -0.040447    1.000000  0.480518   \n",
       "revenue                            -0.036101    0.480518  1.000000   \n",
       "earnings2price                      0.018314    0.430046  0.120176   \n",
       "book2price                          0.010488   -0.026475  0.073531   \n",
       "current_ratio                       0.021522   -0.154748 -0.183396   \n",
       "long_term_debt_2_capital            0.008690   -0.016055  0.008069   \n",
       "debt2equity_ratio                  -0.005888   -0.010983  0.013127   \n",
       "total_non_operating_income2expense  0.033647   -0.073625 -0.235797   \n",
       "\n",
       "                                    earnings2price  book2price  current_ratio  \\\n",
       "gain_1y                                   0.018314    0.010488       0.021522   \n",
       "net_income                                0.430046   -0.026475      -0.154748   \n",
       "revenue                                   0.120176    0.073531      -0.183396   \n",
       "earnings2price                            1.000000    0.117504      -0.160386   \n",
       "book2price                                0.117504    1.000000      -0.079441   \n",
       "current_ratio                            -0.160386   -0.079441       1.000000   \n",
       "long_term_debt_2_capital                 -0.032052   -0.161148      -0.151386   \n",
       "debt2equity_ratio                        -0.005896    0.005012      -0.057630   \n",
       "total_non_operating_income2expense        0.083699   -0.095129       0.171601   \n",
       "\n",
       "                                    long_term_debt_2_capital  \\\n",
       "gain_1y                                             0.008690   \n",
       "net_income                                         -0.016055   \n",
       "revenue                                             0.008069   \n",
       "earnings2price                                     -0.032052   \n",
       "book2price                                         -0.161148   \n",
       "current_ratio                                      -0.151386   \n",
       "long_term_debt_2_capital                            1.000000   \n",
       "debt2equity_ratio                                   0.055675   \n",
       "total_non_operating_income2expense                 -0.138856   \n",
       "\n",
       "                                    debt2equity_ratio  \\\n",
       "gain_1y                                     -0.005888   \n",
       "net_income                                  -0.010983   \n",
       "revenue                                      0.013127   \n",
       "earnings2price                              -0.005896   \n",
       "book2price                                   0.005012   \n",
       "current_ratio                               -0.057630   \n",
       "long_term_debt_2_capital                     0.055675   \n",
       "debt2equity_ratio                            1.000000   \n",
       "total_non_operating_income2expense          -0.096026   \n",
       "\n",
       "                                    total_non_operating_income2expense  \n",
       "gain_1y                                                       0.033647  \n",
       "net_income                                                   -0.073625  \n",
       "revenue                                                      -0.235797  \n",
       "earnings2price                                                0.083699  \n",
       "book2price                                                   -0.095129  \n",
       "current_ratio                                                 0.171601  \n",
       "long_term_debt_2_capital                                     -0.138856  \n",
       "debt2equity_ratio                                            -0.096026  \n",
       "total_non_operating_income2expense                            1.000000  "
      ]
     },
     "execution_count": 14,
     "metadata": {},
     "output_type": "execute_result"
    }
   ],
   "source": [
    "df[[*lbl_cols, *con_cols]].corr()"
   ]
  },
  {
   "cell_type": "markdown",
   "metadata": {},
   "source": [
    "# average value for each category"
   ]
  },
  {
   "cell_type": "code",
   "execution_count": 15,
   "metadata": {},
   "outputs": [
    {
     "data": {
      "image/png": "[encoded data removed]",
      "text/plain": [
       "<Figure size 1152x288 with 1 Axes>"
      ]
     },
     "metadata": {
      "needs_background": "light"
     },
     "output_type": "display_data"
    },
    {
     "data": {
      "image/png": "[encoded data removed]",
      "text/plain": [
       "<Figure size 1152x288 with 1 Axes>"
      ]
     },
     "metadata": {
      "needs_background": "light"
     },
     "output_type": "display_data"
    },
    {
     "data": {
      "image/png": "[encoded data removed]",
      "text/plain": [
       "<Figure size 1152x288 with 1 Axes>"
      ]
     },
     "metadata": {
      "needs_background": "light"
     },
     "output_type": "display_data"
    }
   ],
   "source": [
    "for col in cat_cols:\n",
    "    means = [(val, df.query(f\"`{col}` == {repr(val)}\")['gain_1y'].mean()) for val in df[col].cat.categories[:24]]\n",
    "    top_movers = sorted(means, key=lambda x: abs(x[1]), reverse=True)[:24]\n",
    "    x, y = zip(*top_movers)\n",
    "    plt.figure(figsize=(16,4))\n",
    "    plt.bar(range(len(x)), y)\n",
    "    plt.xticks(range(len(x)), x, rotation=45, ha='right')\n",
    "    plt.xlabel(col)\n",
    "    plt.ylabel('Gain 1Y')\n",
    "    plt.show()\n",
    "    "
   ]
  },
  {
   "cell_type": "markdown",
   "metadata": {},
   "source": [
    "# save category 🠊 embed index mapping\n",
    "To be used when using model (after training)"
   ]
  },
  {
   "cell_type": "code",
   "execution_count": 16,
   "metadata": {},
   "outputs": [
    {
     "data": {
      "text/plain": [
       "{'?': 0,\n",
       " 'Advertising Agencies': 1,\n",
       " 'Aerospace & Defense': 2,\n",
       " 'Agricultural Inputs': 3,\n",
       " 'Airlines': 4,\n",
       " 'Airports & Air Services': 5,\n",
       " 'Aluminum': 6,\n",
       " 'Apparel Manufacturing': 7,\n",
       " 'Apparel Retail': 8,\n",
       " 'Asset Management': 9,\n",
       " 'Auto & Truck Dealerships': 10,\n",
       " 'Auto Manufacturers': 11,\n",
       " 'Auto Parts': 12,\n",
       " 'Banks—Diversified': 13,\n",
       " 'Banks—Regional': 14,\n",
       " 'Beverages—Brewers': 15,\n",
       " 'Beverages—Non-Alcoholic': 16,\n",
       " 'Biotechnology': 17,\n",
       " 'Broadcasting': 18,\n",
       " 'Building Materials': 19,\n",
       " 'Building Products & Equipment': 20,\n",
       " 'Business Equipment & Supplies': 21,\n",
       " 'Capital Markets': 22,\n",
       " 'Chemicals': 23,\n",
       " 'Communication Equipment': 24,\n",
       " 'Computer Hardware': 25,\n",
       " 'Confectioners': 26,\n",
       " 'Conglomerates': 27,\n",
       " 'Consulting Services': 28,\n",
       " 'Consumer Electronics': 29,\n",
       " 'Copper': 30,\n",
       " 'Credit Services': 31,\n",
       " 'Department Stores': 32,\n",
       " 'Diagnostics & Research': 33,\n",
       " 'Discount Stores': 34,\n",
       " 'Drug Manufacturers—General': 35,\n",
       " 'Drug Manufacturers—Specialty & Generic': 36,\n",
       " 'Education & Training Services': 37,\n",
       " 'Electrical Equipment & Parts': 38,\n",
       " 'Electronic Components': 39,\n",
       " 'Electronic Gaming & Multimedia': 40,\n",
       " 'Electronics & Computer Distribution': 41,\n",
       " 'Engineering & Construction': 42,\n",
       " 'Entertainment': 43,\n",
       " 'Farm & Heavy Construction Machinery': 44,\n",
       " 'Farm Products': 45,\n",
       " 'Financial Conglomerates': 46,\n",
       " 'Financial Data & Stock Exchanges': 47,\n",
       " 'Food Distribution': 48,\n",
       " 'Footwear & Accessories': 49,\n",
       " 'Furnishings, Fixtures & Appliances': 50,\n",
       " 'Gambling': 51,\n",
       " 'Gold': 52,\n",
       " 'Grocery Stores': 53,\n",
       " 'Health Information Services': 54,\n",
       " 'Healthcare Plans': 55,\n",
       " 'Home Improvement Retail': 56,\n",
       " 'Household & Personal Products': 57,\n",
       " 'Industrial Distribution': 58,\n",
       " 'Information Technology Services': 59,\n",
       " 'Infrastructure Operations': 60,\n",
       " 'Insurance Brokers': 61,\n",
       " 'Insurance—Diversified': 62,\n",
       " 'Insurance—Life': 63,\n",
       " 'Insurance—Property & Casualty': 64,\n",
       " 'Insurance—Reinsurance': 65,\n",
       " 'Insurance—Specialty': 66,\n",
       " 'Integrated Freight & Logistics': 67,\n",
       " 'Internet Content & Information': 68,\n",
       " 'Internet Retail': 69,\n",
       " 'Leisure': 70,\n",
       " 'Lodging': 71,\n",
       " 'Lumber & Wood Production': 72,\n",
       " 'Luxury Goods': 73,\n",
       " 'Marine Shipping': 74,\n",
       " 'Medical Care Facilities': 75,\n",
       " 'Medical Devices': 76,\n",
       " 'Medical Distribution': 77,\n",
       " 'Medical Instruments & Supplies': 78,\n",
       " 'Metal Fabrication': 79,\n",
       " 'Mortgage Finance': 80,\n",
       " 'Oil & Gas E&P': 81,\n",
       " 'Oil & Gas Equipment & Services': 82,\n",
       " 'Oil & Gas Integrated': 83,\n",
       " 'Oil & Gas Midstream': 84,\n",
       " 'Oil & Gas Refining & Marketing': 85,\n",
       " 'Other Industrial Metals & Mining': 86,\n",
       " 'Other Precious Metals & Mining': 87,\n",
       " 'Packaged Foods': 88,\n",
       " 'Packaging & Containers': 89,\n",
       " 'Personal Services': 90,\n",
       " 'Pharmaceutical Retailers': 91,\n",
       " 'Pollution & Treatment Controls': 92,\n",
       " 'Publishing': 93,\n",
       " 'REIT—Diversified': 94,\n",
       " 'REIT—Healthcare Facilities': 95,\n",
       " 'REIT—Industrial': 96,\n",
       " 'REIT—Mortgage': 97,\n",
       " 'REIT—Office': 98,\n",
       " 'REIT—Residential': 99,\n",
       " 'REIT—Retail': 100,\n",
       " 'REIT—Specialty': 101,\n",
       " 'Railroads': 102,\n",
       " 'Real Estate Services': 103,\n",
       " 'Real Estate—Diversified': 104,\n",
       " 'Recreational Vehicles': 105,\n",
       " 'Rental & Leasing Services': 106,\n",
       " 'Residential Construction': 107,\n",
       " 'Resorts & Casinos': 108,\n",
       " 'Restaurants': 109,\n",
       " 'Scientific & Technical Instruments': 110,\n",
       " 'Security & Protection Services': 111,\n",
       " 'Semiconductor Equipment & Materials': 112,\n",
       " 'Semiconductors': 113,\n",
       " 'Silver': 114,\n",
       " 'Software—Application': 115,\n",
       " 'Software—Infrastructure': 116,\n",
       " 'Solar': 117,\n",
       " 'Specialty Business Services': 118,\n",
       " 'Specialty Chemicals': 119,\n",
       " 'Specialty Industrial Machinery': 120,\n",
       " 'Specialty Retail': 121,\n",
       " 'Staffing & Employment Services': 122,\n",
       " 'Steel': 123,\n",
       " 'Telecom Services': 124,\n",
       " 'Tobacco': 125,\n",
       " 'Tools & Accessories': 126,\n",
       " 'Travel Services': 127,\n",
       " 'Trucking': 128,\n",
       " 'Uranium': 129,\n",
       " 'Utilities—Diversified': 130,\n",
       " 'Utilities—Independent Power Producers': 131,\n",
       " 'Utilities—Regulated Electric': 132,\n",
       " 'Utilities—Regulated Gas': 133,\n",
       " 'Utilities—Regulated Water': 134,\n",
       " 'Utilities—Renewable': 135,\n",
       " 'Waste Management': 136}"
      ]
     },
     "execution_count": 16,
     "metadata": {},
     "output_type": "execute_result"
    }
   ],
   "source": [
    "cat_to_code = {col: {code: i for i, code in enumerate(df[col].cat.categories)} for col in cat_cols}\n",
    "cat_to_code['industry']"
   ]
  },
  {
   "cell_type": "markdown",
   "metadata": {},
   "source": [
    "# normalize"
   ]
  },
  {
   "cell_type": "code",
   "execution_count": 17,
   "metadata": {},
   "outputs": [],
   "source": [
    "# Nothing to do... first batchnorm layer takes care of this"
   ]
  },
  {
   "cell_type": "markdown",
   "metadata": {},
   "source": [
    "# randomize data"
   ]
  },
  {
   "cell_type": "code",
   "execution_count": 45,
   "metadata": {},
   "outputs": [],
   "source": [
    "df = df.sample(frac=1)"
   ]
  },
  {
   "cell_type": "markdown",
   "metadata": {},
   "source": [
    "# convert to tensors"
   ]
  },
  {
   "cell_type": "code",
   "execution_count": 19,
   "metadata": {},
   "outputs": [
    {
     "data": {
      "text/plain": [
       "device(type='cuda', index=0)"
      ]
     },
     "execution_count": 19,
     "metadata": {},
     "output_type": "execute_result"
    }
   ],
   "source": [
    "device = torch.device(\"cuda:0\" if torch.cuda.is_available() else \"cpu\")\n",
    "device"
   ]
  },
  {
   "cell_type": "code",
   "execution_count": 20,
   "metadata": {},
   "outputs": [
    {
     "data": {
      "text/plain": [
       "torch.Size([39551, 3])"
      ]
     },
     "execution_count": 20,
     "metadata": {},
     "output_type": "execute_result"
    }
   ],
   "source": [
    "cats = np.stack([df[col].cat.codes.values for col in cat_cols], 1)\n",
    "cats = torch.tensor(cats, dtype=torch.int64).to(device)\n",
    "cats.shape"
   ]
  },
  {
   "cell_type": "code",
   "execution_count": 21,
   "metadata": {},
   "outputs": [
    {
     "data": {
      "text/plain": [
       "torch.Size([39551, 8])"
      ]
     },
     "execution_count": 21,
     "metadata": {},
     "output_type": "execute_result"
    }
   ],
   "source": [
    "cons = np.stack([df[col].values for col in con_cols], 1)\n",
    "cons = torch.tensor(cons, dtype=torch.float).to(device)\n",
    "cons.shape"
   ]
  },
  {
   "cell_type": "code",
   "execution_count": 22,
   "metadata": {},
   "outputs": [
    {
     "data": {
      "text/plain": [
       "torch.Size([39551, 1])"
      ]
     },
     "execution_count": 22,
     "metadata": {},
     "output_type": "execute_result"
    }
   ],
   "source": [
    "lbls = torch.tensor(df[lbl_cols].values, dtype=torch.float).to(device)\n",
    "lbls.shape"
   ]
  },
  {
   "cell_type": "markdown",
   "metadata": {},
   "source": [
    "# set embedding sizes"
   ]
  },
  {
   "cell_type": "code",
   "execution_count": 23,
   "metadata": {},
   "outputs": [
    {
     "data": {
      "text/plain": [
       "[(13, 3), (137, 7), (12, 3)]"
      ]
     },
     "execution_count": 23,
     "metadata": {},
     "output_type": "execute_result"
    }
   ],
   "source": [
    "cat_szs = [len(df[col].cat.categories) for col in cat_cols]\n",
    "emb_szs = [(size, int(np.log2(size+1))) for size in cat_szs]\n",
    "emb_szs"
   ]
  },
  {
   "cell_type": "markdown",
   "metadata": {},
   "source": [
    "# define TabularModel"
   ]
  },
  {
   "cell_type": "code",
   "execution_count": 24,
   "metadata": {},
   "outputs": [],
   "source": [
    "class TabularModel(nn.Module):\n",
    "\n",
    "    def __init__(self, cat_to_code, emb_szs, n_cont, out_sz, layers, p=0.25):\n",
    "        super().__init__()\n",
    "        self.cat_to_code = cat_to_code\n",
    "        self.embeds = nn.ModuleList([nn.Embedding(ni, nf) for ni,nf in emb_szs])\n",
    "        self.emb_drop = nn.Dropout(p)\n",
    "        self.bn_cont = nn.BatchNorm1d(n_cont)\n",
    "        \n",
    "        layerlist = []\n",
    "        n_emb = sum((nf for ni,nf in emb_szs))\n",
    "        n_in = n_emb + n_cont\n",
    "        \n",
    "        for i in layers:\n",
    "            layerlist.append(nn.Linear(n_in,i)) \n",
    "            layerlist.append(nn.LeakyReLU())\n",
    "            layerlist.append(nn.BatchNorm1d(i))\n",
    "            layerlist.append(nn.Dropout(p))\n",
    "            n_in = i\n",
    "        layerlist.append(nn.Linear(layers[-1],out_sz))\n",
    "            \n",
    "        self.layers = nn.Sequential(*layerlist)\n",
    "    \n",
    "    def forward(self, x_cat, x_cont):\n",
    "        embeddings = []\n",
    "        for i,e in enumerate(self.embeds):\n",
    "            embeddings.append(e(x_cat[:,i]))\n",
    "        x = torch.cat(embeddings, 1)\n",
    "        x = self.emb_drop(x)\n",
    "        \n",
    "        x_cont = self.bn_cont(x_cont)\n",
    "        x = torch.cat([x, x_cont], 1)\n",
    "        x = self.layers(x)\n",
    "        return x"
   ]
  },
  {
   "cell_type": "code",
   "execution_count": 25,
   "metadata": {},
   "outputs": [
    {
     "data": {
      "text/plain": [
       "TabularModel(\n",
       "  (embeds): ModuleList(\n",
       "    (0): Embedding(13, 3)\n",
       "    (1): Embedding(137, 7)\n",
       "    (2): Embedding(12, 3)\n",
       "  )\n",
       "  (emb_drop): Dropout(p=0.25, inplace=False)\n",
       "  (bn_cont): BatchNorm1d(8, eps=1e-05, momentum=0.1, affine=True, track_running_stats=True)\n",
       "  (layers): Sequential(\n",
       "    (0): Linear(in_features=21, out_features=64, bias=True)\n",
       "    (1): LeakyReLU(negative_slope=0.01)\n",
       "    (2): BatchNorm1d(64, eps=1e-05, momentum=0.1, affine=True, track_running_stats=True)\n",
       "    (3): Dropout(p=0.25, inplace=False)\n",
       "    (4): Linear(in_features=64, out_features=64, bias=True)\n",
       "    (5): LeakyReLU(negative_slope=0.01)\n",
       "    (6): BatchNorm1d(64, eps=1e-05, momentum=0.1, affine=True, track_running_stats=True)\n",
       "    (7): Dropout(p=0.25, inplace=False)\n",
       "    (8): Linear(in_features=64, out_features=64, bias=True)\n",
       "    (9): LeakyReLU(negative_slope=0.01)\n",
       "    (10): BatchNorm1d(64, eps=1e-05, momentum=0.1, affine=True, track_running_stats=True)\n",
       "    (11): Dropout(p=0.25, inplace=False)\n",
       "    (12): Linear(in_features=64, out_features=1, bias=True)\n",
       "  )\n",
       ")"
      ]
     },
     "execution_count": 25,
     "metadata": {},
     "output_type": "execute_result"
    }
   ],
   "source": [
    "model = TabularModel(cat_to_code, emb_szs, cons.shape[1], len(lbl_cols), [64,64,64]).to(device)\n",
    "model"
   ]
  },
  {
   "cell_type": "markdown",
   "metadata": {},
   "source": [
    "# define loss and optimizer"
   ]
  },
  {
   "cell_type": "code",
   "execution_count": 26,
   "metadata": {},
   "outputs": [],
   "source": [
    "criterion = nn.MSELoss()  # we'll convert this to RMSE later\n",
    "# optimizer = torch.optim.Adam(model.parameters(), lr=0.01, betas=(0.9, 0.999), eps=1e-08, weight_decay=1e-6) # 18%\n",
    "optimizer = torch.optim.Adam(model.parameters(), lr=0.001)"
   ]
  },
  {
   "cell_type": "markdown",
   "metadata": {},
   "source": [
    "# train / valid / test splits"
   ]
  },
  {
   "cell_type": "code",
   "execution_count": 27,
   "metadata": {},
   "outputs": [],
   "source": [
    "a = int(cats.shape[0] * .7)\n",
    "b = int(cats.shape[0] * .85)\n",
    "\n",
    "cat_train = cats[:a]\n",
    "con_train = cons[:a]\n",
    "lbl_train = lbls[:a]\n",
    "\n",
    "cat_valid = cats[a:b]\n",
    "con_valid = cons[a:b]\n",
    "lbl_valid = lbls[a:b]\n",
    "\n",
    "cat_test = cats[b:]\n",
    "con_test = cons[b:]\n",
    "lbl_test = lbls[b:]"
   ]
  },
  {
   "cell_type": "code",
   "execution_count": 28,
   "metadata": {},
   "outputs": [
    {
     "data": {
      "text/plain": [
       "27685"
      ]
     },
     "execution_count": 28,
     "metadata": {},
     "output_type": "execute_result"
    }
   ],
   "source": [
    "len(cat_train)"
   ]
  },
  {
   "cell_type": "code",
   "execution_count": 29,
   "metadata": {},
   "outputs": [
    {
     "data": {
      "text/plain": [
       "5933"
      ]
     },
     "execution_count": 29,
     "metadata": {},
     "output_type": "execute_result"
    }
   ],
   "source": [
    "len(cat_valid)"
   ]
  },
  {
   "cell_type": "code",
   "execution_count": 30,
   "metadata": {},
   "outputs": [
    {
     "data": {
      "text/plain": [
       "5933"
      ]
     },
     "execution_count": 30,
     "metadata": {},
     "output_type": "execute_result"
    }
   ],
   "source": [
    "len(cat_test)"
   ]
  },
  {
   "cell_type": "markdown",
   "metadata": {},
   "source": [
    "# batch training data so we can randomize samples"
   ]
  },
  {
   "cell_type": "code",
   "execution_count": 31,
   "metadata": {},
   "outputs": [
    {
     "data": {
      "text/plain": [
       "'28 batches'"
      ]
     },
     "execution_count": 31,
     "metadata": {},
     "output_type": "execute_result"
    }
   ],
   "source": [
    "# MICAH not sure if batching and randomizing makes any difference...\n",
    "# TODO GPU usage is at about 0, how can I utilize more gpu?\n",
    "batch_size = 1024\n",
    "batch = lambda data: [data[i:i+batch_size] for i in range(0, len(cat_train), batch_size)]\n",
    "train = [*zip(batch(cat_train), batch(con_train), batch(lbl_train))]\n",
    "f\"{len(train)} batches\""
   ]
  },
  {
   "cell_type": "markdown",
   "metadata": {},
   "source": [
    "# train model"
   ]
  },
  {
   "cell_type": "code",
   "execution_count": 32,
   "metadata": {
    "scrolled": true
   },
   "outputs": [
    {
     "name": "stdout",
     "output_type": "stream",
     "text": [
      "epoch:   5  train loss:  0.362 valid loss:  0.360\n",
      "epoch:  10  train loss:  0.356 valid loss:  0.359\n",
      "epoch:  15  train loss:  0.356 valid loss:  0.359\n",
      "epoch:  20  train loss:  0.355 valid loss:  0.358\n",
      "epoch:  25  train loss:  0.355 valid loss:  0.358\n",
      "epoch:  30  train loss:  0.355 valid loss:  0.358\n",
      "epoch:  35  train loss:  0.354 valid loss:  0.358\n",
      "epoch:  40  train loss:  0.354 valid loss:  0.358\n",
      "epoch:  45  train loss:  0.354 valid loss:  0.358\n",
      "epoch:  50  train loss:  0.354 valid loss:  0.357\n",
      "epoch:  55  train loss:  0.354 valid loss:  0.357\n",
      "epoch:  60  train loss:  0.354 valid loss:  0.357\n",
      "epoch:  65  train loss:  0.353 valid loss:  0.356\n",
      "epoch:  70  train loss:  0.354 valid loss:  0.356\n",
      "epoch:  75  train loss:  0.353 valid loss:  0.356\n",
      "epoch:  80  train loss:  0.353 valid loss:  0.355\n",
      "epoch:  85  train loss:  0.352 valid loss:  0.355\n",
      "epoch:  90  train loss:  0.352 valid loss:  0.355\n",
      "epoch:  95  train loss:  0.352 valid loss:  0.355\n",
      "epoch: 100  train loss:  0.351 valid loss:  0.354\n",
      "epoch: 105  train loss:  0.351 valid loss:  0.354\n",
      "epoch: 110  train loss:  0.351 valid loss:  0.354\n",
      "epoch: 115  train loss:  0.351 valid loss:  0.354\n",
      "epoch: 120  train loss:  0.351 valid loss:  0.354\n",
      "epoch: 125  train loss:  0.350 valid loss:  0.354\n",
      "epoch: 130  train loss:  0.351 valid loss:  0.354\n",
      "epoch: 135  train loss:  0.350 valid loss:  0.353\n",
      "epoch: 140  train loss:  0.351 valid loss:  0.353\n",
      "epoch: 145  train loss:  0.349 valid loss:  0.353\n",
      "epoch: 150  train loss:  0.349 valid loss:  0.352\n",
      "epoch: 155  train loss:  0.348 valid loss:  0.353\n",
      "epoch: 160  train loss:  0.349 valid loss:  0.352\n",
      "epoch: 165  train loss:  0.349 valid loss:  0.353\n",
      "epoch: 170  train loss:  0.348 valid loss:  0.352\n",
      "epoch: 175  train loss:  0.349 valid loss:  0.353\n",
      "epoch: 180  train loss:  0.348 valid loss:  0.352\n",
      "epoch: 185  train loss:  0.347 valid loss:  0.352\n",
      "epoch: 190  train loss:  0.347 valid loss:  0.352\n",
      "epoch: 195  train loss:  0.347 valid loss:  0.352\n",
      "epoch: 200  train loss:  0.346 valid loss:  0.351\n",
      "epoch: 205  train loss:  0.347 valid loss:  0.351\n",
      "epoch: 210  train loss:  0.348 valid loss:  0.351\n",
      "epoch: 215  train loss:  0.347 valid loss:  0.351\n",
      "epoch: 220  train loss:  0.346 valid loss:  0.351\n",
      "epoch: 225  train loss:  0.346 valid loss:  0.351\n",
      "epoch: 230  train loss:  0.346 valid loss:  0.351\n",
      "epoch: 235  train loss:  0.346 valid loss:  0.351\n",
      "epoch: 240  train loss:  0.346 valid loss:  0.351\n",
      "epoch: 245  train loss:  0.345 valid loss:  0.350\n",
      "epoch: 250  train loss:  0.346 valid loss:  0.351\n",
      "epoch: 255  train loss:  0.346 valid loss:  0.350\n",
      "epoch: 260  train loss:  0.344 valid loss:  0.350\n",
      "epoch: 265  train loss:  0.346 valid loss:  0.350\n",
      "epoch: 270  train loss:  0.344 valid loss:  0.350\n",
      "epoch: 275  train loss:  0.343 valid loss:  0.350\n",
      "epoch: 280  train loss:  0.343 valid loss:  0.350\n",
      "epoch: 285  train loss:  0.344 valid loss:  0.350\n",
      "epoch: 290  train loss:  0.345 valid loss:  0.350\n",
      "epoch: 295  train loss:  0.344 valid loss:  0.349\n",
      "epoch: 300  train loss:  0.344 valid loss:  0.349\n",
      "epoch: 305  train loss:  0.344 valid loss:  0.349\n",
      "epoch: 310  train loss:  0.344 valid loss:  0.350\n",
      "epoch: 315  train loss:  0.344 valid loss:  0.349\n",
      "epoch: 320  train loss:  0.344 valid loss:  0.350\n",
      "epoch: 325  train loss:  0.344 valid loss:  0.350\n",
      "epoch: 330  train loss:  0.343 valid loss:  0.350\n",
      "epoch: 335  train loss:  0.343 valid loss:  0.350\n",
      "epoch: 340  train loss:  0.343 valid loss:  0.349\n",
      "epoch: 345  train loss:  0.344 valid loss:  0.349\n",
      "epoch: 350  train loss:  0.342 valid loss:  0.350\n",
      "epoch: 355  train loss:  0.342 valid loss:  0.350\n",
      "epoch: 360  train loss:  0.342 valid loss:  0.349\n",
      "epoch: 365  train loss:  0.343 valid loss:  0.350\n",
      "epoch: 370  train loss:  0.343 valid loss:  0.349\n",
      "epoch: 375  train loss:  0.342 valid loss:  0.349\n",
      "epoch: 380  train loss:  0.343 valid loss:  0.349\n",
      "epoch: 385  train loss:  0.341 valid loss:  0.349\n",
      "epoch: 390  train loss:  0.341 valid loss:  0.348\n",
      "epoch: 395  train loss:  0.341 valid loss:  0.350\n",
      "epoch: 400  train loss:  0.342 valid loss:  0.349\n",
      "epoch: 405  train loss:  0.342 valid loss:  0.349\n",
      "epoch: 410  train loss:  0.342 valid loss:  0.350\n",
      "epoch: 415  train loss:  0.341 valid loss:  0.350\n",
      "epoch: 420  train loss:  0.342 valid loss:  0.349\n",
      "epoch: 425  train loss:  0.341 valid loss:  0.348\n",
      "epoch: 430  train loss:  0.339 valid loss:  0.348\n",
      "epoch: 435  train loss:  0.341 valid loss:  0.349\n",
      "epoch: 440  train loss:  0.342 valid loss:  0.349\n",
      "epoch: 445  train loss:  0.341 valid loss:  0.348\n",
      "epoch: 450  train loss:  0.341 valid loss:  0.349\n",
      "epoch: 455  train loss:  0.341 valid loss:  0.350\n",
      "epoch: 460  train loss:  0.340 valid loss:  0.349\n",
      "epoch: 465  train loss:  0.339 valid loss:  0.349\n",
      "epoch: 470  train loss:  0.341 valid loss:  0.348\n",
      "epoch: 475  train loss:  0.341 valid loss:  0.349\n",
      "epoch: 480  train loss:  0.339 valid loss:  0.349\n",
      "epoch: 485  train loss:  0.339 valid loss:  0.349\n",
      "epoch: 490  train loss:  0.340 valid loss:  0.348\n",
      "epoch: 495  train loss:  0.339 valid loss:  0.349\n",
      "epoch: 500  train loss:  0.341 valid loss:  0.350\n",
      "epoch: 505  train loss:  0.340 valid loss:  0.349\n",
      "epoch: 510  train loss:  0.340 valid loss:  0.349\n",
      "epoch: 515  train loss:  0.338 valid loss:  0.349\n",
      "epoch: 520  train loss:  0.340 valid loss:  0.348\n",
      "epoch: 525  train loss:  0.341 valid loss:  0.348\n",
      "epoch: 530  train loss:  0.340 valid loss:  0.348\n",
      "epoch: 535  train loss:  0.339 valid loss:  0.349\n",
      "epoch: 540  train loss:  0.341 valid loss:  0.349\n",
      "epoch: 545  train loss:  0.341 valid loss:  0.348\n",
      "epoch: 550  train loss:  0.339 valid loss:  0.348\n",
      "epoch: 555  train loss:  0.339 valid loss:  0.349\n",
      "epoch: 560  train loss:  0.338 valid loss:  0.349\n",
      "epoch: 565  train loss:  0.338 valid loss:  0.349\n",
      "epoch: 570  train loss:  0.339 valid loss:  0.349\n",
      "epoch: 575  train loss:  0.339 valid loss:  0.350\n",
      "epoch: 580  train loss:  0.340 valid loss:  0.349\n",
      "epoch: 585  train loss:  0.339 valid loss:  0.349\n",
      "epoch: 590  train loss:  0.338 valid loss:  0.349\n",
      "epoch: 595  train loss:  0.339 valid loss:  0.350\n",
      "epoch: 600  train loss:  0.339 valid loss:  0.349\n",
      "epoch: 605  train loss:  0.338 valid loss:  0.349\n",
      "epoch: 610  train loss:  0.339 valid loss:  0.349\n",
      "epoch: 615  train loss:  0.337 valid loss:  0.349\n",
      "epoch: 620  train loss:  0.338 valid loss:  0.349\n",
      "epoch: 625  train loss:  0.338 valid loss:  0.350\n",
      "epoch: 630  train loss:  0.338 valid loss:  0.349\n",
      "epoch: 635  train loss:  0.339 valid loss:  0.349\n",
      "epoch: 640  train loss:  0.339 valid loss:  0.349\n",
      "epoch: 645  train loss:  0.337 valid loss:  0.349\n",
      "epoch: 650  train loss:  0.337 valid loss:  0.349\n",
      "epoch: 655  train loss:  0.336 valid loss:  0.348\n",
      "epoch: 660  train loss:  0.338 valid loss:  0.349\n",
      "epoch: 665  train loss:  0.337 valid loss:  0.349\n",
      "epoch: 670  train loss:  0.337 valid loss:  0.349\n",
      "epoch: 675  train loss:  0.338 valid loss:  0.348\n",
      "epoch: 680  train loss:  0.338 valid loss:  0.348\n",
      "epoch: 685  train loss:  0.337 valid loss:  0.349\n",
      "epoch: 690  train loss:  0.336 valid loss:  0.348\n",
      "epoch: 695  train loss:  0.337 valid loss:  0.349\n",
      "epoch: 700  train loss:  0.336 valid loss:  0.348\n",
      "epoch: 705  train loss:  0.337 valid loss:  0.348\n",
      "epoch: 710  train loss:  0.337 valid loss:  0.348\n",
      "epoch: 715  train loss:  0.335 valid loss:  0.349\n",
      "epoch: 720  train loss:  0.337 valid loss:  0.349\n",
      "epoch: 725  train loss:  0.336 valid loss:  0.348\n",
      "epoch: 730  train loss:  0.338 valid loss:  0.348\n",
      "epoch: 735  train loss:  0.337 valid loss:  0.348\n",
      "epoch: 740  train loss:  0.335 valid loss:  0.349\n",
      "epoch: 745  train loss:  0.336 valid loss:  0.349\n",
      "epoch: 750  train loss:  0.336 valid loss:  0.348\n",
      "epoch: 755  train loss:  0.335 valid loss:  0.349\n",
      "epoch: 760  train loss:  0.336 valid loss:  0.349\n",
      "epoch: 765  train loss:  0.339 valid loss:  0.349\n",
      "epoch: 770  train loss:  0.338 valid loss:  0.349\n",
      "epoch: 775  train loss:  0.337 valid loss:  0.349\n",
      "epoch: 780  train loss:  0.337 valid loss:  0.349\n",
      "epoch: 785  train loss:  0.337 valid loss:  0.349\n",
      "epoch: 790  train loss:  0.336 valid loss:  0.349\n",
      "epoch: 795  train loss:  0.335 valid loss:  0.350\n",
      "epoch: 800  train loss:  0.337 valid loss:  0.348\n",
      "epoch: 805  train loss:  0.337 valid loss:  0.349\n",
      "epoch: 810  train loss:  0.336 valid loss:  0.349\n",
      "epoch: 815  train loss:  0.336 valid loss:  0.348\n",
      "epoch: 820  train loss:  0.337 valid loss:  0.349\n"
     ]
    },
    {
     "name": "stdout",
     "output_type": "stream",
     "text": [
      "epoch: 825  train loss:  0.336 valid loss:  0.349\n",
      "epoch: 830  train loss:  0.335 valid loss:  0.349\n",
      "epoch: 835  train loss:  0.337 valid loss:  0.349\n",
      "epoch: 840  train loss:  0.336 valid loss:  0.349\n",
      "epoch: 845  train loss:  0.337 valid loss:  0.349\n",
      "epoch: 850  train loss:  0.336 valid loss:  0.349\n",
      "epoch: 855  train loss:  0.334 valid loss:  0.348\n",
      "epoch: 860  train loss:  0.335 valid loss:  0.348\n",
      "epoch: 865  train loss:  0.335 valid loss:  0.348\n",
      "epoch: 870  train loss:  0.337 valid loss:  0.349\n",
      "epoch: 875  train loss:  0.335 valid loss:  0.348\n",
      "epoch: 880  train loss:  0.337 valid loss:  0.349\n",
      "epoch: 885  train loss:  0.337 valid loss:  0.349\n",
      "epoch: 890  train loss:  0.334 valid loss:  0.349\n",
      "epoch: 895  train loss:  0.337 valid loss:  0.349\n",
      "epoch: 900  train loss:  0.336 valid loss:  0.348\n",
      "epoch: 905  train loss:  0.335 valid loss:  0.349\n",
      "epoch: 910  train loss:  0.336 valid loss:  0.349\n",
      "epoch: 915  train loss:  0.336 valid loss:  0.349\n",
      "epoch: 920  train loss:  0.337 valid loss:  0.350\n",
      "epoch: 925  train loss:  0.335 valid loss:  0.349\n",
      "epoch: 930  train loss:  0.336 valid loss:  0.349\n",
      "epoch: 935  train loss:  0.335 valid loss:  0.349\n",
      "epoch: 940  train loss:  0.336 valid loss:  0.349\n",
      "epoch: 945  train loss:  0.334 valid loss:  0.350\n",
      "epoch: 950  train loss:  0.335 valid loss:  0.350\n",
      "epoch: 955  train loss:  0.335 valid loss:  0.350\n",
      "epoch: 960  train loss:  0.335 valid loss:  0.349\n",
      "epoch: 965  train loss:  0.333 valid loss:  0.348\n",
      "epoch: 970  train loss:  0.335 valid loss:  0.349\n",
      "epoch: 975  train loss:  0.337 valid loss:  0.349\n",
      "epoch: 980  train loss:  0.334 valid loss:  0.349\n",
      "epoch: 985  train loss:  0.335 valid loss:  0.349\n",
      "epoch: 990  train loss:  0.336 valid loss:  0.349\n",
      "epoch: 995  train loss:  0.336 valid loss:  0.348\n",
      "\n",
      "Duration: 317 seconds\n"
     ]
    }
   ],
   "source": [
    "import time, random\n",
    "\n",
    "start_time = time.time()\n",
    "\n",
    "epochs = 1000\n",
    "\n",
    "train_losses = []\n",
    "valid_losses = []\n",
    "\n",
    "for i in range(epochs):\n",
    "    model.train()\n",
    "    train_loss = 0\n",
    "    random.shuffle(train)\n",
    "    for cat, con, lbl in train:\n",
    "        y = model(cat, con)\n",
    "        loss = torch.sqrt(criterion(y, lbl)) # RMSE\n",
    "        train_loss += loss.item() * len(cat)\n",
    "        optimizer.zero_grad()\n",
    "        loss.backward()\n",
    "        optimizer.step()\n",
    "        \n",
    "    train_loss /= len(cat_train)\n",
    "        \n",
    "    if i and i%5 == 0:\n",
    "        model.eval()\n",
    "        with torch.no_grad():\n",
    "            y = model(cat_valid, con_valid)\n",
    "            loss = torch.sqrt(criterion(y, lbl_valid)) # RMSE\n",
    "            valid_loss = loss.item()\n",
    "            \n",
    "        train_losses.append(train_loss)\n",
    "        valid_losses.append(valid_loss)\n",
    "            \n",
    "        print(f'epoch: {i:3}  train loss: {train_loss:6.3f} valid loss: {valid_loss:6.3f}')\n",
    "\n",
    "print(f'\\nDuration: {time.time() - start_time:.0f} seconds')"
   ]
  },
  {
   "cell_type": "markdown",
   "metadata": {},
   "source": [
    "# plot the loss function"
   ]
  },
  {
   "cell_type": "code",
   "execution_count": 33,
   "metadata": {
    "scrolled": true
   },
   "outputs": [
    {
     "data": {
      "image/png": "[encoded data removed]",
      "text/plain": [
       "<Figure size 432x288 with 1 Axes>"
      ]
     },
     "metadata": {
      "needs_background": "light"
     },
     "output_type": "display_data"
    }
   ],
   "source": [
    "plt.plot(train_losses, label='train')\n",
    "plt.plot(valid_losses, label='valid')\n",
    "plt.legend()\n",
    "plt.ylabel('RMSE Loss')\n",
    "plt.xlabel('epoch');"
   ]
  },
  {
   "cell_type": "markdown",
   "metadata": {},
   "source": [
    "# test loss"
   ]
  },
  {
   "cell_type": "code",
   "execution_count": 34,
   "metadata": {},
   "outputs": [
    {
     "data": {
      "text/plain": [
       "'test loss: 0.337'"
      ]
     },
     "execution_count": 34,
     "metadata": {},
     "output_type": "execute_result"
    }
   ],
   "source": [
    "model.eval()\n",
    "with torch.no_grad():\n",
    "    y = model(cat_test, con_test)\n",
    "\n",
    "test_loss = torch.sqrt(criterion(y, lbl_test))\n",
    "f\"test loss: {test_loss:5.3f}\""
   ]
  },
  {
   "cell_type": "markdown",
   "metadata": {},
   "source": [
    "# predictions"
   ]
  },
  {
   "cell_type": "code",
   "execution_count": 43,
   "metadata": {},
   "outputs": [
    {
     "data": {
      "text/plain": [
       "<matplotlib.legend.Legend at 0x2450f250ac8>"
      ]
     },
     "execution_count": 43,
     "metadata": {},
     "output_type": "execute_result"
    },
    {
     "data": {
      "image/png": "[encoded data removed]",
      "text/plain": [
       "<Figure size 432x288 with 1 Axes>"
      ]
     },
     "metadata": {
      "needs_background": "light"
     },
     "output_type": "display_data"
    }
   ],
   "source": [
    "actual = lbl_test.view(-1).cpu()\n",
    "pred = y.view(-1).cpu()\n",
    "\n",
    "actual_, pred_ = zip(*sorted(zip(actual[::10].tolist(), pred[::10].tolist()), key=lambda x: x[0]))\n",
    "plt.plot(actual_, label='actual')\n",
    "plt.plot(pred_, label='pred')\n",
    "plt.legend()"
   ]
  },
  {
   "cell_type": "markdown",
   "metadata": {},
   "source": [
    "# errors"
   ]
  },
  {
   "cell_type": "code",
   "execution_count": 36,
   "metadata": {},
   "outputs": [
    {
     "data": {
      "image/png": "[encoded data removed]",
      "text/plain": [
       "<Figure size 432x288 with 1 Axes>"
      ]
     },
     "metadata": {
      "needs_background": "light"
     },
     "output_type": "display_data"
    }
   ],
   "source": [
    "error = abs(pred - actual)\n",
    "plt.hist(error, 100, range=(0, 1))\n",
    "plt.show()"
   ]
  },
  {
   "cell_type": "markdown",
   "metadata": {},
   "source": [
    "# plot gradients"
   ]
  },
  {
   "cell_type": "code",
   "execution_count": 37,
   "metadata": {},
   "outputs": [],
   "source": [
    "def plot_grad_flow(named_parameters):\n",
    "    '''Plots the gradients flowing through different layers in the net during training.\n",
    "    Can be used for checking for possible gradient vanishing / exploding problems.\n",
    "    \n",
    "    Usage: Plug this function in Trainer class after loss.backwards() as \n",
    "    \"plot_grad_flow(self.model.named_parameters())\" to visualize the gradient flow'''\n",
    "    import matplotlib.pyplot as plt\n",
    "    from matplotlib.lines import Line2D\n",
    "    ave_grads = []\n",
    "    max_grads= []\n",
    "    layers = []\n",
    "    for n, p in named_parameters:\n",
    "        if(p.requires_grad) and (\"bias\" not in n):\n",
    "            layers.append(n)\n",
    "            ave_grads.append(p.grad.abs().mean())\n",
    "            max_grads.append(p.grad.abs().max())\n",
    "    plt.bar(np.arange(len(max_grads)), max_grads, alpha=0.2, lw=1, color=\"c\")\n",
    "    plt.bar(np.arange(len(max_grads)), ave_grads, alpha=0.2, lw=1, color=\"b\")\n",
    "    plt.hlines(0, 0, len(ave_grads)+1, lw=2, color=\"k\" )\n",
    "    plt.xticks(range(0,len(ave_grads), 1), layers, rotation=\"vertical\")\n",
    "    plt.xlim(left=0, right=len(ave_grads))\n",
    "    plt.ylim(bottom = -0.001, top=0.02) # zoom in on the lower gradient regions\n",
    "    plt.xlabel(\"Layers\")\n",
    "    plt.ylabel(\"average gradient\")\n",
    "    plt.title(\"Gradient flow\")\n",
    "    plt.grid(True)\n",
    "    plt.legend([Line2D([0], [0], color=\"c\", lw=4),\n",
    "                Line2D([0], [0], color=\"b\", lw=4),\n",
    "                Line2D([0], [0], color=\"k\", lw=4)], ['max-gradient', 'mean-gradient', 'zero-gradient'])"
   ]
  },
  {
   "cell_type": "code",
   "execution_count": 38,
   "metadata": {},
   "outputs": [
    {
     "data": {
      "image/png": "[encoded data removed]",
      "text/plain": [
       "<Figure size 432x288 with 1 Axes>"
      ]
     },
     "metadata": {
      "needs_background": "light"
     },
     "output_type": "display_data"
    }
   ],
   "source": [
    "model.train()\n",
    "y = model(cat_test, con_test)\n",
    "loss = torch.sqrt(criterion(y, lbl_test))\n",
    "optimizer.zero_grad()\n",
    "loss.backward()\n",
    "plot_grad_flow(model.named_parameters())"
   ]
  },
  {
   "cell_type": "markdown",
   "metadata": {},
   "source": [
    "# find best ticker now!"
   ]
  },
  {
   "cell_type": "code",
   "execution_count": 39,
   "metadata": {},
   "outputs": [
    {
     "data": {
      "image/png": "[encoded data removed]",
      "text/plain": [
       "<Figure size 1152x288 with 1 Axes>"
      ]
     },
     "metadata": {
      "needs_background": "light"
     },
     "output_type": "display_data"
    }
   ],
   "source": [
    "cats = np.stack([latest[col].cat.codes.values for col in cat_cols], 1)\n",
    "cats = torch.tensor(cats, dtype=torch.int64).to(device)\n",
    "\n",
    "cons = np.stack([latest[col].values for col in con_cols], 1)\n",
    "cons = torch.tensor(cons, dtype=torch.float).to(device)\n",
    "\n",
    "model.eval()\n",
    "with torch.no_grad():\n",
    "    y = model(cats, cons)\n",
    "    \n",
    "predict = [x for x in zip(latest['ticker'], y.view(-1).tolist())]\n",
    "best = sorted(predict, key=lambda x:x[1], reverse=True)[:25]\n",
    "tickers, gains = zip(*best)\n",
    "gains = np.exp(gains)-1\n",
    "\n",
    "n = range(len(tickers))\n",
    "plt.figure(figsize=(16,4))\n",
    "plt.bar(n, gains)\n",
    "plt.xticks(n, tickers, rotation=45, ha='right')\n",
    "plt.xlabel('ticker')\n",
    "plt.ylabel('Gain 1Y')\n",
    "plt.show()"
   ]
  },
  {
   "cell_type": "code",
   "execution_count": 40,
   "metadata": {},
   "outputs": [
    {
     "data": {
      "text/html": [
       "<div>\n",
       "<style scoped>\n",
       "    .dataframe tbody tr th:only-of-type {\n",
       "        vertical-align: middle;\n",
       "    }\n",
       "\n",
       "    .dataframe tbody tr th {\n",
       "        vertical-align: top;\n",
       "    }\n",
       "\n",
       "    .dataframe thead th {\n",
       "        text-align: right;\n",
       "    }\n",
       "</style>\n",
       "<table border=\"1\" class=\"dataframe\">\n",
       "  <thead>\n",
       "    <tr style=\"text-align: right;\">\n",
       "      <th></th>\n",
       "      <th>ticker</th>\n",
       "      <th>sector</th>\n",
       "      <th>industry</th>\n",
       "      <th>month</th>\n",
       "      <th>net_income</th>\n",
       "      <th>revenue</th>\n",
       "      <th>earnings2price</th>\n",
       "      <th>book2price</th>\n",
       "      <th>current_ratio</th>\n",
       "      <th>long_term_debt_2_capital</th>\n",
       "      <th>debt2equity_ratio</th>\n",
       "      <th>total_non_operating_income2expense</th>\n",
       "      <th>date</th>\n",
       "    </tr>\n",
       "  </thead>\n",
       "  <tbody>\n",
       "    <tr>\n",
       "      <th>0</th>\n",
       "      <td>DOOO</td>\n",
       "      <td>Consumer Cyclical</td>\n",
       "      <td>Recreational Vehicles</td>\n",
       "      <td>4</td>\n",
       "      <td>-164.3246</td>\n",
       "      <td>894.1876</td>\n",
       "      <td>-0.060067</td>\n",
       "      <td>-0.211649</td>\n",
       "      <td>0.9209</td>\n",
       "      <td>1.6908</td>\n",
       "      <td>-3.3770</td>\n",
       "      <td>-77.9451</td>\n",
       "      <td>2020-04-30</td>\n",
       "    </tr>\n",
       "    <tr>\n",
       "      <th>0</th>\n",
       "      <td>BHC</td>\n",
       "      <td>Healthcare</td>\n",
       "      <td>Drug Manufacturers—Specialty &amp; Generic</td>\n",
       "      <td>6</td>\n",
       "      <td>-326.0000</td>\n",
       "      <td>1664.0000</td>\n",
       "      <td>-0.051083</td>\n",
       "      <td>0.085414</td>\n",
       "      <td>1.1187</td>\n",
       "      <td>0.9781</td>\n",
       "      <td>44.6117</td>\n",
       "      <td>-410.0000</td>\n",
       "      <td>2020-06-30</td>\n",
       "    </tr>\n",
       "    <tr>\n",
       "      <th>0</th>\n",
       "      <td>TECK</td>\n",
       "      <td>Basic Materials</td>\n",
       "      <td>Other Industrial Metals &amp; Mining</td>\n",
       "      <td>3</td>\n",
       "      <td>-232.6584</td>\n",
       "      <td>1772.5290</td>\n",
       "      <td>-0.059944</td>\n",
       "      <td>4.374429</td>\n",
       "      <td>1.3507</td>\n",
       "      <td>0.1881</td>\n",
       "      <td>0.2481</td>\n",
       "      <td>-504.0932</td>\n",
       "      <td>2020-03-31</td>\n",
       "    </tr>\n",
       "    <tr>\n",
       "      <th>0</th>\n",
       "      <td>DKS</td>\n",
       "      <td>Consumer Cyclical</td>\n",
       "      <td>Specialty Retail</td>\n",
       "      <td>4</td>\n",
       "      <td>-143.4220</td>\n",
       "      <td>1333.2280</td>\n",
       "      <td>-0.056066</td>\n",
       "      <td>0.651793</td>\n",
       "      <td>2.0352</td>\n",
       "      <td>0.5222</td>\n",
       "      <td>1.0928</td>\n",
       "      <td>-21.5670</td>\n",
       "      <td>2020-04-30</td>\n",
       "    </tr>\n",
       "    <tr>\n",
       "      <th>0</th>\n",
       "      <td>VAC</td>\n",
       "      <td>Consumer Cyclical</td>\n",
       "      <td>Resorts &amp; Casinos</td>\n",
       "      <td>6</td>\n",
       "      <td>-70.0000</td>\n",
       "      <td>480.0000</td>\n",
       "      <td>-0.020966</td>\n",
       "      <td>0.826754</td>\n",
       "      <td>3.6471</td>\n",
       "      <td>0.6267</td>\n",
       "      <td>1.6790</td>\n",
       "      <td>-40.0000</td>\n",
       "      <td>2020-06-30</td>\n",
       "    </tr>\n",
       "    <tr>\n",
       "      <th>0</th>\n",
       "      <td>WYNN</td>\n",
       "      <td>Consumer Cyclical</td>\n",
       "      <td>Resorts &amp; Casinos</td>\n",
       "      <td>6</td>\n",
       "      <td>-637.5640</td>\n",
       "      <td>85.6980</td>\n",
       "      <td>-0.081147</td>\n",
       "      <td>0.034551</td>\n",
       "      <td>2.2656</td>\n",
       "      <td>0.9788</td>\n",
       "      <td>47.1543</td>\n",
       "      <td>-130.9150</td>\n",
       "      <td>2020-06-30</td>\n",
       "    </tr>\n",
       "    <tr>\n",
       "      <th>0</th>\n",
       "      <td>MAT</td>\n",
       "      <td>Consumer Cyclical</td>\n",
       "      <td>Leisure</td>\n",
       "      <td>6</td>\n",
       "      <td>-109.1720</td>\n",
       "      <td>732.1360</td>\n",
       "      <td>-0.032563</td>\n",
       "      <td>0.026082</td>\n",
       "      <td>1.4665</td>\n",
       "      <td>0.9707</td>\n",
       "      <td>37.7355</td>\n",
       "      <td>-50.1920</td>\n",
       "      <td>2020-06-30</td>\n",
       "    </tr>\n",
       "    <tr>\n",
       "      <th>0</th>\n",
       "      <td>EQT</td>\n",
       "      <td>Energy</td>\n",
       "      <td>Oil &amp; Gas E&amp;P</td>\n",
       "      <td>6</td>\n",
       "      <td>-263.0750</td>\n",
       "      <td>527.0740</td>\n",
       "      <td>-0.092046</td>\n",
       "      <td>3.304111</td>\n",
       "      <td>0.9880</td>\n",
       "      <td>0.3279</td>\n",
       "      <td>0.4895</td>\n",
       "      <td>20.8340</td>\n",
       "      <td>2020-06-30</td>\n",
       "    </tr>\n",
       "    <tr>\n",
       "      <th>0</th>\n",
       "      <td>KAR</td>\n",
       "      <td>Consumer Cyclical</td>\n",
       "      <td>Specialty Retail</td>\n",
       "      <td>6</td>\n",
       "      <td>-34.4000</td>\n",
       "      <td>419.0000</td>\n",
       "      <td>-0.019081</td>\n",
       "      <td>0.850134</td>\n",
       "      <td>1.6180</td>\n",
       "      <td>0.5864</td>\n",
       "      <td>1.4353</td>\n",
       "      <td>-32.2000</td>\n",
       "      <td>2020-06-30</td>\n",
       "    </tr>\n",
       "    <tr>\n",
       "      <th>0</th>\n",
       "      <td>DDOG</td>\n",
       "      <td>Technology</td>\n",
       "      <td>Software—Application</td>\n",
       "      <td>6</td>\n",
       "      <td>0.2840</td>\n",
       "      <td>140.0120</td>\n",
       "      <td>0.000000</td>\n",
       "      <td>0.035831</td>\n",
       "      <td>6.7358</td>\n",
       "      <td>0.4015</td>\n",
       "      <td>0.6869</td>\n",
       "      <td>0.1720</td>\n",
       "      <td>2020-06-30</td>\n",
       "    </tr>\n",
       "    <tr>\n",
       "      <th>0</th>\n",
       "      <td>NVCR</td>\n",
       "      <td>Healthcare</td>\n",
       "      <td>Medical Instruments &amp; Supplies</td>\n",
       "      <td>6</td>\n",
       "      <td>1.6550</td>\n",
       "      <td>115.9250</td>\n",
       "      <td>0.000345</td>\n",
       "      <td>0.045789</td>\n",
       "      <td>5.7304</td>\n",
       "      <td>0.3786</td>\n",
       "      <td>0.6093</td>\n",
       "      <td>-2.6170</td>\n",
       "      <td>2020-06-30</td>\n",
       "    </tr>\n",
       "    <tr>\n",
       "      <th>0</th>\n",
       "      <td>MHK</td>\n",
       "      <td>Consumer Cyclical</td>\n",
       "      <td>Furnishings, Fixtures &amp; Appliances</td>\n",
       "      <td>6</td>\n",
       "      <td>-48.2570</td>\n",
       "      <td>2049.8000</td>\n",
       "      <td>-0.006844</td>\n",
       "      <td>1.120291</td>\n",
       "      <td>2.5349</td>\n",
       "      <td>0.2611</td>\n",
       "      <td>0.3704</td>\n",
       "      <td>-13.9930</td>\n",
       "      <td>2020-06-30</td>\n",
       "    </tr>\n",
       "    <tr>\n",
       "      <th>0</th>\n",
       "      <td>JEF</td>\n",
       "      <td>Financial Services</td>\n",
       "      <td>Financial Conglomerates</td>\n",
       "      <td>5</td>\n",
       "      <td>44.9190</td>\n",
       "      <td>1147.5890</td>\n",
       "      <td>0.010804</td>\n",
       "      <td>2.366361</td>\n",
       "      <td>1.5173</td>\n",
       "      <td>0.5155</td>\n",
       "      <td>2.0564</td>\n",
       "      <td>-82.2000</td>\n",
       "      <td>2020-05-31</td>\n",
       "    </tr>\n",
       "    <tr>\n",
       "      <th>0</th>\n",
       "      <td>AYX</td>\n",
       "      <td>Technology</td>\n",
       "      <td>Software—Application</td>\n",
       "      <td>6</td>\n",
       "      <td>-35.2930</td>\n",
       "      <td>96.2330</td>\n",
       "      <td>-0.003310</td>\n",
       "      <td>0.038663</td>\n",
       "      <td>3.8937</td>\n",
       "      <td>0.6230</td>\n",
       "      <td>1.8244</td>\n",
       "      <td>-4.9660</td>\n",
       "      <td>2020-06-30</td>\n",
       "    </tr>\n",
       "    <tr>\n",
       "      <th>0</th>\n",
       "      <td>BYD</td>\n",
       "      <td>Consumer Cyclical</td>\n",
       "      <td>Resorts &amp; Casinos</td>\n",
       "      <td>6</td>\n",
       "      <td>-108.5440</td>\n",
       "      <td>209.8590</td>\n",
       "      <td>-0.047361</td>\n",
       "      <td>0.445343</td>\n",
       "      <td>2.8552</td>\n",
       "      <td>0.8514</td>\n",
       "      <td>5.7548</td>\n",
       "      <td>-59.1660</td>\n",
       "      <td>2020-06-30</td>\n",
       "    </tr>\n",
       "    <tr>\n",
       "      <th>0</th>\n",
       "      <td>THO</td>\n",
       "      <td>Consumer Cyclical</td>\n",
       "      <td>Recreational Vehicles</td>\n",
       "      <td>4</td>\n",
       "      <td>24.0680</td>\n",
       "      <td>1681.7350</td>\n",
       "      <td>0.006242</td>\n",
       "      <td>0.555272</td>\n",
       "      <td>1.6496</td>\n",
       "      <td>0.4822</td>\n",
       "      <td>0.9597</td>\n",
       "      <td>-32.1780</td>\n",
       "      <td>2020-04-30</td>\n",
       "    </tr>\n",
       "    <tr>\n",
       "      <th>0</th>\n",
       "      <td>H</td>\n",
       "      <td>Consumer Cyclical</td>\n",
       "      <td>Lodging</td>\n",
       "      <td>6</td>\n",
       "      <td>-236.0000</td>\n",
       "      <td>250.0000</td>\n",
       "      <td>-0.046479</td>\n",
       "      <td>0.688915</td>\n",
       "      <td>2.7646</td>\n",
       "      <td>0.4513</td>\n",
       "      <td>0.8340</td>\n",
       "      <td>-72.0000</td>\n",
       "      <td>2020-06-30</td>\n",
       "    </tr>\n",
       "    <tr>\n",
       "      <th>0</th>\n",
       "      <td>CMC</td>\n",
       "      <td>Basic Materials</td>\n",
       "      <td>Steel</td>\n",
       "      <td>5</td>\n",
       "      <td>64.7340</td>\n",
       "      <td>1341.6830</td>\n",
       "      <td>0.031142</td>\n",
       "      <td>0.872168</td>\n",
       "      <td>3.4192</td>\n",
       "      <td>0.3905</td>\n",
       "      <td>0.6504</td>\n",
       "      <td>-21.3920</td>\n",
       "      <td>2020-05-31</td>\n",
       "    </tr>\n",
       "    <tr>\n",
       "      <th>0</th>\n",
       "      <td>PENN</td>\n",
       "      <td>Consumer Cyclical</td>\n",
       "      <td>Resorts &amp; Casinos</td>\n",
       "      <td>6</td>\n",
       "      <td>-213.9000</td>\n",
       "      <td>305.5000</td>\n",
       "      <td>-0.057679</td>\n",
       "      <td>0.373717</td>\n",
       "      <td>1.9891</td>\n",
       "      <td>0.8865</td>\n",
       "      <td>7.9673</td>\n",
       "      <td>-107.4000</td>\n",
       "      <td>2020-06-30</td>\n",
       "    </tr>\n",
       "    <tr>\n",
       "      <th>0</th>\n",
       "      <td>HMY</td>\n",
       "      <td>?</td>\n",
       "      <td>?</td>\n",
       "      <td>12</td>\n",
       "      <td>5.0000</td>\n",
       "      <td>321.0000</td>\n",
       "      <td>0.010753</td>\n",
       "      <td>4.234194</td>\n",
       "      <td>1.4480</td>\n",
       "      <td>0.1083</td>\n",
       "      <td>0.1331</td>\n",
       "      <td>1.0000</td>\n",
       "      <td>2015-12-31</td>\n",
       "    </tr>\n",
       "    <tr>\n",
       "      <th>0</th>\n",
       "      <td>APPS</td>\n",
       "      <td>Technology</td>\n",
       "      <td>Software—Application</td>\n",
       "      <td>6</td>\n",
       "      <td>9.9400</td>\n",
       "      <td>59.0120</td>\n",
       "      <td>0.009306</td>\n",
       "      <td>0.086311</td>\n",
       "      <td>0.8268</td>\n",
       "      <td>0.1679</td>\n",
       "      <td>0.2207</td>\n",
       "      <td>-0.3060</td>\n",
       "      <td>2020-06-30</td>\n",
       "    </tr>\n",
       "    <tr>\n",
       "      <th>0</th>\n",
       "      <td>NTRA</td>\n",
       "      <td>Healthcare</td>\n",
       "      <td>Diagnostics &amp; Research</td>\n",
       "      <td>6</td>\n",
       "      <td>-59.6370</td>\n",
       "      <td>86.4720</td>\n",
       "      <td>-0.015625</td>\n",
       "      <td>0.079517</td>\n",
       "      <td>3.7794</td>\n",
       "      <td>0.4203</td>\n",
       "      <td>0.8895</td>\n",
       "      <td>-7.9620</td>\n",
       "      <td>2020-06-30</td>\n",
       "    </tr>\n",
       "    <tr>\n",
       "      <th>0</th>\n",
       "      <td>DXCM</td>\n",
       "      <td>Healthcare</td>\n",
       "      <td>Diagnostics &amp; Research</td>\n",
       "      <td>6</td>\n",
       "      <td>46.3000</td>\n",
       "      <td>451.8000</td>\n",
       "      <td>0.001207</td>\n",
       "      <td>0.035676</td>\n",
       "      <td>7.5806</td>\n",
       "      <td>0.5613</td>\n",
       "      <td>1.2908</td>\n",
       "      <td>-21.6000</td>\n",
       "      <td>2020-06-30</td>\n",
       "    </tr>\n",
       "    <tr>\n",
       "      <th>0</th>\n",
       "      <td>CWH</td>\n",
       "      <td>Consumer Cyclical</td>\n",
       "      <td>Recreational Vehicles</td>\n",
       "      <td>6</td>\n",
       "      <td>58.0770</td>\n",
       "      <td>1606.7450</td>\n",
       "      <td>0.058533</td>\n",
       "      <td>-0.030042</td>\n",
       "      <td>1.4248</td>\n",
       "      <td>1.0360</td>\n",
       "      <td>-36.5612</td>\n",
       "      <td>-19.6450</td>\n",
       "      <td>2020-06-30</td>\n",
       "    </tr>\n",
       "    <tr>\n",
       "      <th>0</th>\n",
       "      <td>PAYC</td>\n",
       "      <td>Technology</td>\n",
       "      <td>Software—Application</td>\n",
       "      <td>6</td>\n",
       "      <td>28.5760</td>\n",
       "      <td>181.5870</td>\n",
       "      <td>0.001623</td>\n",
       "      <td>0.033694</td>\n",
       "      <td>1.1099</td>\n",
       "      <td>0.0487</td>\n",
       "      <td>0.0542</td>\n",
       "      <td>0.1590</td>\n",
       "      <td>2020-06-30</td>\n",
       "    </tr>\n",
       "  </tbody>\n",
       "</table>\n",
       "</div>"
      ],
      "text/plain": [
       "  ticker              sector                                industry month  \\\n",
       "0   DOOO   Consumer Cyclical                   Recreational Vehicles     4   \n",
       "0    BHC          Healthcare  Drug Manufacturers—Specialty & Generic     6   \n",
       "0   TECK     Basic Materials        Other Industrial Metals & Mining     3   \n",
       "0    DKS   Consumer Cyclical                        Specialty Retail     4   \n",
       "0    VAC   Consumer Cyclical                       Resorts & Casinos     6   \n",
       "0   WYNN   Consumer Cyclical                       Resorts & Casinos     6   \n",
       "0    MAT   Consumer Cyclical                                 Leisure     6   \n",
       "0    EQT              Energy                           Oil & Gas E&P     6   \n",
       "0    KAR   Consumer Cyclical                        Specialty Retail     6   \n",
       "0   DDOG          Technology                    Software—Application     6   \n",
       "0   NVCR          Healthcare          Medical Instruments & Supplies     6   \n",
       "0    MHK   Consumer Cyclical      Furnishings, Fixtures & Appliances     6   \n",
       "0    JEF  Financial Services                 Financial Conglomerates     5   \n",
       "0    AYX          Technology                    Software—Application     6   \n",
       "0    BYD   Consumer Cyclical                       Resorts & Casinos     6   \n",
       "0    THO   Consumer Cyclical                   Recreational Vehicles     4   \n",
       "0      H   Consumer Cyclical                                 Lodging     6   \n",
       "0    CMC     Basic Materials                                   Steel     5   \n",
       "0   PENN   Consumer Cyclical                       Resorts & Casinos     6   \n",
       "0    HMY                   ?                                       ?    12   \n",
       "0   APPS          Technology                    Software—Application     6   \n",
       "0   NTRA          Healthcare                  Diagnostics & Research     6   \n",
       "0   DXCM          Healthcare                  Diagnostics & Research     6   \n",
       "0    CWH   Consumer Cyclical                   Recreational Vehicles     6   \n",
       "0   PAYC          Technology                    Software—Application     6   \n",
       "\n",
       "   net_income    revenue  earnings2price  book2price  current_ratio  \\\n",
       "0   -164.3246   894.1876       -0.060067   -0.211649         0.9209   \n",
       "0   -326.0000  1664.0000       -0.051083    0.085414         1.1187   \n",
       "0   -232.6584  1772.5290       -0.059944    4.374429         1.3507   \n",
       "0   -143.4220  1333.2280       -0.056066    0.651793         2.0352   \n",
       "0    -70.0000   480.0000       -0.020966    0.826754         3.6471   \n",
       "0   -637.5640    85.6980       -0.081147    0.034551         2.2656   \n",
       "0   -109.1720   732.1360       -0.032563    0.026082         1.4665   \n",
       "0   -263.0750   527.0740       -0.092046    3.304111         0.9880   \n",
       "0    -34.4000   419.0000       -0.019081    0.850134         1.6180   \n",
       "0      0.2840   140.0120        0.000000    0.035831         6.7358   \n",
       "0      1.6550   115.9250        0.000345    0.045789         5.7304   \n",
       "0    -48.2570  2049.8000       -0.006844    1.120291         2.5349   \n",
       "0     44.9190  1147.5890        0.010804    2.366361         1.5173   \n",
       "0    -35.2930    96.2330       -0.003310    0.038663         3.8937   \n",
       "0   -108.5440   209.8590       -0.047361    0.445343         2.8552   \n",
       "0     24.0680  1681.7350        0.006242    0.555272         1.6496   \n",
       "0   -236.0000   250.0000       -0.046479    0.688915         2.7646   \n",
       "0     64.7340  1341.6830        0.031142    0.872168         3.4192   \n",
       "0   -213.9000   305.5000       -0.057679    0.373717         1.9891   \n",
       "0      5.0000   321.0000        0.010753    4.234194         1.4480   \n",
       "0      9.9400    59.0120        0.009306    0.086311         0.8268   \n",
       "0    -59.6370    86.4720       -0.015625    0.079517         3.7794   \n",
       "0     46.3000   451.8000        0.001207    0.035676         7.5806   \n",
       "0     58.0770  1606.7450        0.058533   -0.030042         1.4248   \n",
       "0     28.5760   181.5870        0.001623    0.033694         1.1099   \n",
       "\n",
       "   long_term_debt_2_capital  debt2equity_ratio  \\\n",
       "0                    1.6908            -3.3770   \n",
       "0                    0.9781            44.6117   \n",
       "0                    0.1881             0.2481   \n",
       "0                    0.5222             1.0928   \n",
       "0                    0.6267             1.6790   \n",
       "0                    0.9788            47.1543   \n",
       "0                    0.9707            37.7355   \n",
       "0                    0.3279             0.4895   \n",
       "0                    0.5864             1.4353   \n",
       "0                    0.4015             0.6869   \n",
       "0                    0.3786             0.6093   \n",
       "0                    0.2611             0.3704   \n",
       "0                    0.5155             2.0564   \n",
       "0                    0.6230             1.8244   \n",
       "0                    0.8514             5.7548   \n",
       "0                    0.4822             0.9597   \n",
       "0                    0.4513             0.8340   \n",
       "0                    0.3905             0.6504   \n",
       "0                    0.8865             7.9673   \n",
       "0                    0.1083             0.1331   \n",
       "0                    0.1679             0.2207   \n",
       "0                    0.4203             0.8895   \n",
       "0                    0.5613             1.2908   \n",
       "0                    1.0360           -36.5612   \n",
       "0                    0.0487             0.0542   \n",
       "\n",
       "   total_non_operating_income2expense       date  \n",
       "0                            -77.9451 2020-04-30  \n",
       "0                           -410.0000 2020-06-30  \n",
       "0                           -504.0932 2020-03-31  \n",
       "0                            -21.5670 2020-04-30  \n",
       "0                            -40.0000 2020-06-30  \n",
       "0                           -130.9150 2020-06-30  \n",
       "0                            -50.1920 2020-06-30  \n",
       "0                             20.8340 2020-06-30  \n",
       "0                            -32.2000 2020-06-30  \n",
       "0                              0.1720 2020-06-30  \n",
       "0                             -2.6170 2020-06-30  \n",
       "0                            -13.9930 2020-06-30  \n",
       "0                            -82.2000 2020-05-31  \n",
       "0                             -4.9660 2020-06-30  \n",
       "0                            -59.1660 2020-06-30  \n",
       "0                            -32.1780 2020-04-30  \n",
       "0                            -72.0000 2020-06-30  \n",
       "0                            -21.3920 2020-05-31  \n",
       "0                           -107.4000 2020-06-30  \n",
       "0                              1.0000 2015-12-31  \n",
       "0                             -0.3060 2020-06-30  \n",
       "0                             -7.9620 2020-06-30  \n",
       "0                            -21.6000 2020-06-30  \n",
       "0                            -19.6450 2020-06-30  \n",
       "0                              0.1590 2020-06-30  "
      ]
     },
     "execution_count": 40,
     "metadata": {},
     "output_type": "execute_result"
    }
   ],
   "source": [
    "pd.concat([latest.query(f\"ticker == '{ticker}'\") for ticker in tickers])"
   ]
  },
  {
   "cell_type": "markdown",
   "metadata": {},
   "source": [
    "# save the model"
   ]
  },
  {
   "cell_type": "code",
   "execution_count": 41,
   "metadata": {
    "scrolled": true
   },
   "outputs": [
    {
     "name": "stderr",
     "output_type": "stream",
     "text": [
      "C:\\ProgramData\\Anaconda3\\envs\\ml\\lib\\site-packages\\torch\\serialization.py:360: UserWarning: Couldn't retrieve source code for container of type TabularModel. It won't be checked for correctness upon loading.\n",
      "  \"type \" + obj.__name__ + \". It won't be checked \"\n"
     ]
    }
   ],
   "source": [
    "# Interesting: model is loaded in cuda if I don't move to cpu before saving\n",
    "torch.save(model.cpu(), 'model.pt')"
   ]
  }
 ],
 "metadata": {
  "kernelspec": {
   "display_name": "Python 3",
   "language": "python",
   "name": "python3"
  },
  "language_info": {
   "codemirror_mode": {
    "name": "ipython",
    "version": 3
   },
   "file_extension": ".py",
   "mimetype": "text/x-python",
   "name": "python",
   "nbconvert_exporter": "python",
   "pygments_lexer": "ipython3",
   "version": "3.7.6"
  }
 },
 "nbformat": 4,
 "nbformat_minor": 4
}
